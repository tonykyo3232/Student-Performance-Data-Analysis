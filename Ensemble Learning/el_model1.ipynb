{
 "cells": [
  {
   "cell_type": "markdown",
   "id": "908eb19a",
   "metadata": {},
   "source": [
    "## Loading Data"
   ]
  },
  {
   "cell_type": "code",
   "execution_count": 1,
   "id": "6fd08d6a",
   "metadata": {},
   "outputs": [],
   "source": [
    "import numpy as np\n",
    "import pandas as pd\n",
    "df = pd.read_csv('Student Performance.csv')"
   ]
  },
  {
   "cell_type": "markdown",
   "id": "f321aa56",
   "metadata": {},
   "source": [
    "## Obtain label features"
   ]
  },
  {
   "cell_type": "code",
   "execution_count": 2,
   "id": "265dee4e",
   "metadata": {},
   "outputs": [
    {
     "name": "stdout",
     "output_type": "stream",
     "text": [
      "feature matrix\n",
      "[[0.72 0.72 0.74]\n",
      " [0.69 0.9  0.88]\n",
      " [0.9  0.95 0.93]\n",
      " ...\n",
      " [0.59 0.71 0.65]\n",
      " [0.68 0.78 0.77]\n",
      " [0.77 0.86 0.86]]\n",
      "size: (1000, 3)\n",
      "\n",
      "Labels\n",
      "[1 2 1 0 2 1 1 1 3 1 2 3 1 0 0 2 2 1 2 2 3 1 3 2 3 0 1 2 2 3 3 1 4 3 4 4 3\n",
      " 3 3 1 2 2 1 1 4 1 0 2 3 2 4 4 2 3 2 2 4 3 3 2 4 0 0 2 3 1 3 2 1 2 3 3 0 2\n",
      " 2 1 4 0 3 4 1 1 0 4 3 2 2 3 0 3 2 2 2 2 1 2 1 4 3 3 1 3 3 1 2 2 3 4 1 1 3\n",
      " 2 0 3 4 2 1 3 3 2 2 1 2 3 4 1 1 3 3 0 3 2 4 2 3 2 1 4 2 3 3 2 4 0 3 2 1 2\n",
      " 3 4 0 0 1 3 3 2 4 1 1 3 1 4 1 2 4 2 2 1 1 2 0 4 3 2 2 2 1 2 1 3 2 2 4 3 2\n",
      " 2 4 3 1 2 4 3 1 3 2 3 2 4 1 1 2 3 2 1 2 3 4 4 1 1 3 2 2 2 4 1 4 2 1 1 3 1\n",
      " 2 3 1 4 2 3 0 2 3 2 1 4 2 3 3 3 1 2 3 4 3 4 3 2 4 1 1 2 0 3 1 3 3 4 2 2 1\n",
      " 2 2 2 2 4 3 3 2 3 3 4 2 2 3 3 1 2 2 4 2 1 3 3 3 3 1 1 4 1 1 4 2 3 2 4 3 1\n",
      " 0 4 2 3 0 3 2 1 2 0 4 2 1 3 1 1 3 2 2 2 3 2 1 3 2 4 2 2 2 2 2 0 2 1 2 2 4\n",
      " 1 2 1 3 2 1 3 2 2 1 3 3 2 1 2 3 4 1 4 2 2 2 1 0 2 3 3 1 1 2 3 2 0 2 2 0 3\n",
      " 4 2 3 3 3 4 3 3 0 0 1 2 2 4 0 4 4 2 3 3 4 3 4 2 2 0 1 2 1 3 2 0 0 3 2 2 1\n",
      " 1 3 3 3 4 3 1 2 4 2 2 3 4 2 3 3 0 1 2 2 2 0 2 2 2 2 0 2 2 3 3 2 3 2 3 0 1\n",
      " 0 2 3 2 1 1 2 4 2 2 2 2 3 3 4 1 2 1 4 2 0 2 3 0 0 2 2 2 2 3 1 3 4 3 3 4 1\n",
      " 3 2 0 1 2 3 2 1 0 0 2 2 2 1 3 2 3 1 4 3 1 2 4 3 1 0 1 2 2 3 0 3 1 1 2 3 4\n",
      " 3 1 3 2 3 2 2 4 2 2 3 2 2 2 4 4 1 2 2 3 4 0 2 3 2 3 3 4 0 2 2 2 2 1 1 3 4\n",
      " 2 2 2 1 3 3 2 2 3 1 1 4 3 1 3 1 0 2 2 4 0 0 1 1 3 3 4 3 3 3 2 0 2 2 0 2 0\n",
      " 4 4 2 2 1 0 3 3 3 2 4 3 3 2 2 2 4 1 3 2 2 2 0 2 4 3 3 2 2 1 2 0 4 3 1 3 3\n",
      " 2 3 1 1 2 3 0 1 3 4 3 3 3 1 4 1 1 3 4 1 3 2 0 3 0 1 1 2 3 3 3 2 2 3 2 3 2\n",
      " 2 1 2 3 2 3 2 2 3 1 4 2 3 3 3 1 1 2 1 4 4 3 0 4 2 4 2 3 2 3 2 0 3 2 4 1 0\n",
      " 3 1 0 3 2 3 3 2 4 3 3 1 1 2 2 2 4 2 3 1 2 1 4 4 4 3 2 1 0 2 3 4 2 2 1 3 2\n",
      " 3 0 2 2 1 3 3 2 2 1 3 4 2 2 2 4 3 4 3 1 2 3 3 1 3 1 2 1 3 0 1 3 1 2 1 1 1\n",
      " 2 0 4 3 1 1 2 2 1 4 1 2 2 1 3 3 4 1 4 3 4 4 2 2 2 4 1 2 0 3 4 2 1 0 0 2 4\n",
      " 2 1 0 3 1 2 0 3 4 1 2 2 2 2 3 1 0 2 0 1 1 2 4 0 1 2 3 2 1 1 3 4 2 3 2 3 2\n",
      " 0 4 4 2 1 1 2 1 2 2 4 3 2 2 3 2 1 4 2 1 2 1 4 2 2 3 2 3 3 2 4 1 3 4 2 4 2\n",
      " 3 3 4 4 0 3 4 4 1 1 3 3 3 2 0 3 3 3 1 3 2 4 3 0 2 2 1 4 4 2 2 1 3 2 3 1 3\n",
      " 4 4 3 4 2 2 3 3 2 2 3 0 4 3 3 2 3 2 0 1 2 1 3 1 4 4 3 4 2 2 4 2 3 3 2 0 3\n",
      " 4 2 3 3 0 2 4 1 3 2 0 3 0 2 1 2 3 2 1 3 1 0 2 0 2 4 0 3 4 1 3 3 0 4 2 2 3\n",
      " 3]\n",
      "size: (1000,)\n"
     ]
    }
   ],
   "source": [
    "# convert these data into 2D numpy array\n",
    "# order: math percentage, reading score percentage, writing score percentage\n",
    "X = np.array([[df['math percentage'][0], \n",
    "              df['reading score percentage'][0], \n",
    "              df['writing score percentage'][0]]], \n",
    "             dtype = 'float')\n",
    "for i in range(1,1000):\n",
    "    X = np.append(X, [[df['math percentage'][i], \n",
    "                  df['reading score percentage'][i], \n",
    "                  df['writing score percentage'][i]]],axis=0)\n",
    "print('feature matrix')\n",
    "print(X)\n",
    "print('size: ' + str(X.shape))\n",
    "print()\n",
    "\n",
    "# Group A to Group E labeled as 0,1,2,3,4\n",
    "if(df['race/ethnicity'][0] == 'group A'):\n",
    "    first_elem = 0\n",
    "elif(df['race/ethnicity'][0] == 'group B'):\n",
    "    first_elem = 1\n",
    "elif(df['race/ethnicity'][0] == 'group C'):\n",
    "    first_elem = 2\n",
    "elif(df['race/ethnicity'][0] == 'group D'):\n",
    "    first_elem = 3\n",
    "else:\n",
    "    first_elem = 4\n",
    "    \n",
    "y = np.array([first_elem], dtype = 'int')\n",
    "for i in range(1,1000):\n",
    "    if(df['race/ethnicity'][i] == 'group A'):\n",
    "        y = np.append(y, 0)\n",
    "    elif(df['race/ethnicity'][i] == 'group B'):\n",
    "        y = np.append(y, 1)\n",
    "    elif(df['race/ethnicity'][i] == 'group C'):\n",
    "        y = np.append(y, 2)\n",
    "    elif(df['race/ethnicity'][i] == 'group D'):\n",
    "        y = np.append(y, 3)\n",
    "    else:\n",
    "        y = np.append(y, 4)\n",
    "print('Labels')\n",
    "print(y)\n",
    "print('size: ' + str(y.shape))\n"
   ]
  },
  {
   "cell_type": "code",
   "execution_count": 3,
   "id": "6e7c3b36",
   "metadata": {},
   "outputs": [],
   "source": [
    "from sklearn.ensemble import RandomForestClassifier, VotingClassifier\n",
    "from sklearn.neighbors import KNeighborsClassifier\n",
    "from sklearn.linear_model import LogisticRegression\n",
    "from sklearn.tree import DecisionTreeClassifier"
   ]
  },
  {
   "cell_type": "markdown",
   "id": "08815ffa",
   "metadata": {},
   "source": [
    "## Use sklearn functions to split the dataset into testing and training sets with the following parameters: test_size=0.3, random_state=6."
   ]
  },
  {
   "cell_type": "code",
   "execution_count": 4,
   "id": "41a1c618",
   "metadata": {},
   "outputs": [],
   "source": [
    "from sklearn.model_selection import train_test_split\n",
    "X_train, X_test, y_train, y_test = train_test_split(X, y, test_size=0.3, random_state=6)"
   ]
  },
  {
   "cell_type": "markdown",
   "id": "78b0fd77",
   "metadata": {},
   "source": [
    "## Ensemble Learning\n",
    "### Ensemble Learning uses a group of machine learning algorithms, and then combine the results of them using some techniques such as Voting to achieve higher accuracy."
   ]
  },
  {
   "cell_type": "markdown",
   "id": "56b4a1e6",
   "metadata": {},
   "source": [
    "### Using BootStrap"
   ]
  },
  {
   "cell_type": "code",
   "execution_count": 5,
   "id": "d48bc815",
   "metadata": {},
   "outputs": [
    {
     "name": "stdout",
     "output_type": "stream",
     "text": [
      "0.3333333333333333\n"
     ]
    }
   ],
   "source": [
    "import numpy as np\n",
    "from sklearn.metrics import accuracy_score\n",
    "from sklearn.utils import resample\n",
    "from sklearn.ensemble import RandomForestClassifier, VotingClassifier\n",
    "from sklearn.neighbors import KNeighborsClassifier\n",
    "from sklearn.linear_model import LogisticRegression\n",
    "from sklearn.tree import DecisionTreeClassifier\n",
    "\n",
    "bootstarp_size = int(np.floor( 0.8 * len(X_train) ))\n",
    "accuracy_list = list()\n",
    "\n",
    "for i in range(0, 19):\n",
    "    \n",
    "    # Step1 (Bootstrapping)\n",
    "    X_bag = resample(X_train, n_samples = bootstarp_size , random_state=i , replace = True)\n",
    "    y_bag = resample(y_train, n_samples = bootstarp_size , random_state=i , replace = True)\n",
    "    \n",
    "    # Step2 (Training)\n",
    "    Base_DecisionTree = DecisionTreeClassifier(random_state=3)\n",
    "\n",
    "    Base_logreg = LogisticRegression(max_iter=150)\n",
    "\n",
    "    Base_knn = KNeighborsClassifier(n_neighbors=60)\n",
    "\n",
    "    Base_rf = RandomForestClassifier(n_estimators=19)\n",
    "        \n",
    "    Base_eclf1 = VotingClassifier (estimators= [('dt', Base_DecisionTree), ('lr', Base_logreg), ('KNN', Base_knn), ('rf', Base_rf)], voting = 'hard')\n",
    "    Base_eclf1 = Base_eclf1.fit(X_bag, y_bag)\n",
    "    \n",
    "    Base_eclf2 = VotingClassifier (estimators= [('dt', Base_DecisionTree), ('lr', Base_logreg), ('KNN', Base_knn), ('rf', Base_rf)], voting = 'soft')\n",
    "    Base_eclf2 = Base_eclf2.fit(X_bag, y_bag)\n",
    "    \n",
    "    # Step3 (Base Learner Prediction)\n",
    "    y_predict1 = Base_eclf1.predict(X_test)\n",
    "    y_predict2 = Base_eclf2.predict(X_test)\n",
    "    \n",
    "    accuracy1 = accuracy_score(y_test, y_predict1)\n",
    "    accuracy2 = accuracy_score(y_test, y_predict2)\n",
    "\n",
    "    # Step4 (Voting)\n",
    "    curr_acc_list = [accuracy1, accuracy2]\n",
    "    accuracy_list.append(max(curr_acc_list))\n",
    "print(max(accuracy_list))"
   ]
  },
  {
   "cell_type": "code",
   "execution_count": 6,
   "id": "7128d691",
   "metadata": {},
   "outputs": [
    {
     "name": "stdout",
     "output_type": "stream",
     "text": [
      "12\n"
     ]
    }
   ],
   "source": [
    "highest_val = 0\n",
    "highest_val_index = 0\n",
    "for i in range(0, len(accuracy_list)):\n",
    "    if(highest_val < accuracy_list[i]):\n",
    "        highest_val = accuracy_list[i]\n",
    "        highest_val_index = i\n",
    "print(highest_val_index)"
   ]
  },
  {
   "cell_type": "markdown",
   "id": "efd6b7b5",
   "metadata": {},
   "source": [
    "#### Using BootStrap with Cross Validation"
   ]
  },
  {
   "cell_type": "code",
   "execution_count": 7,
   "id": "c7e68cc0",
   "metadata": {},
   "outputs": [
    {
     "name": "stdout",
     "output_type": "stream",
     "text": [
      "0.6464285714285715\n"
     ]
    }
   ],
   "source": [
    "import numpy as np\n",
    "from sklearn.metrics import accuracy_score\n",
    "from sklearn.utils import resample\n",
    "from sklearn.ensemble import RandomForestClassifier, VotingClassifier\n",
    "from sklearn.neighbors import KNeighborsClassifier\n",
    "from sklearn.linear_model import LogisticRegression\n",
    "from sklearn.tree import DecisionTreeClassifier\n",
    "from sklearn.model_selection import cross_val_score\n",
    "\n",
    "bootstarp_size = int(np.floor( 0.8 * len(X_train) ))\n",
    "final_accuracy_list = list()\n",
    "\n",
    "for i in range(0, 19):\n",
    "    \n",
    "    # Step1 (Bootstrapping)\n",
    "    X_bag = resample(X_train, n_samples = bootstarp_size , random_state=i , replace = True)\n",
    "    y_bag = resample(y_train, n_samples = bootstarp_size , random_state=i , replace = True)\n",
    "    \n",
    "    # Step2 (Training)\n",
    "    Base_DecisionTree = DecisionTreeClassifier(random_state=3)\n",
    "\n",
    "    Base_logreg = LogisticRegression(max_iter=150)\n",
    "\n",
    "    Base_knn = KNeighborsClassifier(n_neighbors=60)\n",
    "\n",
    "    Base_rf = RandomForestClassifier(n_estimators=19)\n",
    "        \n",
    "    Base_eclf1 = VotingClassifier (estimators= [('dt', Base_DecisionTree), ('lr', Base_logreg), ('KNN', Base_knn), ('rf', Base_rf)], voting = 'hard')\n",
    "    \n",
    "    Base_eclf2 = VotingClassifier (estimators= [('dt', Base_DecisionTree), ('lr', Base_logreg), ('KNN', Base_knn), ('rf', Base_rf)], voting = 'soft')\n",
    "        \n",
    "    # Step3 (Base Learner Prediction)\n",
    "    accuracy_list1 = cross_val_score(Base_eclf1, X_bag, y_bag, cv=10, scoring='accuracy')\n",
    "    accuracy_list2 = cross_val_score(Base_eclf2, X_bag, y_bag, cv=10, scoring='accuracy')\n",
    "    \n",
    "    accuracy_cv1 = accuracy_list1.mean()\n",
    "    accuracy_cv2 = accuracy_list2.mean()\n",
    "        \n",
    "    # Step4 (Voting)\n",
    "    curr_max_acc = [accuracy_cv1, accuracy_cv2]\n",
    "    final_accuracy_list.append(max(curr_max_acc))\n",
    "    \n",
    "print(max(final_accuracy_list))"
   ]
  },
  {
   "cell_type": "code",
   "execution_count": 8,
   "id": "11285d1a",
   "metadata": {},
   "outputs": [
    {
     "name": "stdout",
     "output_type": "stream",
     "text": [
      "Hard accuracy: 0.3233333333333333\n",
      "Soft accuracy: 0.26666666666666666\n"
     ]
    }
   ],
   "source": [
    "import numpy as np\n",
    "from sklearn.metrics import accuracy_score\n",
    "from sklearn.utils import resample\n",
    "from sklearn.ensemble import RandomForestClassifier, VotingClassifier\n",
    "from sklearn.neighbors import KNeighborsClassifier\n",
    "from sklearn.linear_model import LogisticRegression\n",
    "from sklearn.tree import DecisionTreeClassifier\n",
    "\n",
    "bootstarp_size = int(np.floor( 0.8 * len(X_train) ))\n",
    "accuracy_list = list()\n",
    "\n",
    "i = 12\n",
    "    \n",
    "# Step1 (Bootstrapping)\n",
    "X_bag = resample(X_train, n_samples = bootstarp_size , random_state=i , replace = True)\n",
    "y_bag = resample(y_train, n_samples = bootstarp_size , random_state=i , replace = True)\n",
    "\n",
    "# Step2 (Training)\n",
    "Base_DecisionTree = DecisionTreeClassifier(random_state=3)\n",
    "\n",
    "Base_logreg = LogisticRegression(max_iter=150)\n",
    "\n",
    "Base_knn = KNeighborsClassifier(n_neighbors=60)\n",
    "\n",
    "Base_rf = RandomForestClassifier(n_estimators=19)\n",
    "\n",
    "Base_eclf1 = VotingClassifier (estimators= [('dt', Base_DecisionTree), ('lr', Base_logreg), ('KNN', Base_knn), ('rf', Base_rf)], voting = 'hard')\n",
    "Base_eclf1 = Base_eclf1.fit(X_bag, y_bag)\n",
    "\n",
    "Base_eclf2 = VotingClassifier (estimators= [('dt', Base_DecisionTree), ('lr', Base_logreg), ('KNN', Base_knn), ('rf', Base_rf)], voting = 'soft')\n",
    "Base_eclf2 = Base_eclf2.fit(X_bag, y_bag)\n",
    "\n",
    "# Step3 (Base Learner Prediction)\n",
    "y_predict1 = Base_eclf1.predict(X_test)\n",
    "y_predict2 = Base_eclf2.predict(X_test)\n",
    "\n",
    "accuracy1 = accuracy_score(y_test, y_predict1)\n",
    "accuracy2 = accuracy_score(y_test, y_predict2)\n",
    "\n",
    "# Step4 (Voting)\n",
    "print(\"Hard accuracy: \" + str(accuracy1))\n",
    "print(\"Soft accuracy: \" + str(accuracy2))"
   ]
  },
  {
   "cell_type": "code",
   "execution_count": 9,
   "id": "8ace0212",
   "metadata": {},
   "outputs": [],
   "source": [
    "# Predicting the Binary Label:\n",
    "y_predict = Base_eclf2.predict(X_test)\n",
    "\n",
    "# Estimating the probability (likelihood) of Each Label: \n",
    "y_predict_prob = Base_eclf2.predict_proba(X_test)"
   ]
  },
  {
   "cell_type": "code",
   "execution_count": 10,
   "id": "7c1b06b5",
   "metadata": {},
   "outputs": [
    {
     "name": "stdout",
     "output_type": "stream",
     "text": [
      "[3 3 4 3 2 2 2 4 4 2 4 2 2 3 0 1 0 1 4 2 2 0 2 3 2 1 2 2 2 4 1 1 1 3 3 3 4\n",
      " 3 1 3 2 2 1 1 2 4 4 2 3 1 4 3 4 1 3 3 2 2 2 3 4 3 2 2 4 2 1 4 3 2 1 3 4 3\n",
      " 2 3 4 2 3 3 3 2 0 1 1 3 3 2 3 0 1 1 2 1 2 4 3 4 4 2 2 1 1 2 2 3 2 3 0 2 2\n",
      " 3 1 3 1 2 2 3 1 1 2 1 2 2 3 1 2 3 3 4 1 2 0 2 1 2 1 3 0 2 1 3 0 1 3 2 2 0\n",
      " 4 3 2 2 1 2 3 3 1 3 3 2 4 1 3 4 2 2 2 3 4 1 3 4 2 3 1 4 4 3 2 1 2 3 3 1 0\n",
      " 4 2 3 2 1 4 1 4 3 1 0 2 0 1 0 3 3 3 0 0 3 3 2 2 2 2 1 2 1 2 4 2 2 2 2 4 1\n",
      " 2 3 2 3 3 2 1 1 3 4 3 1 0 3 2 3 3 2 3 0 0 2 4 0 3 2 0 1 2 3 1 1 2 4 4 4 2\n",
      " 4 2 1 1 2 4 3 1 3 2 2 2 0 3 4 2 2 1 4 2 1 2 3 2 3 2 3 1 1 4 1 1 1 2 1 3 1\n",
      " 4 4 2 2]\n",
      "[1 2 1 2 2 3 2 2 2 3 4 2 2 2 2 2 4 2 4 3 3 1 2 3 4 2 2 0 4 1 2 2 2 3 1 2 3\n",
      " 0 1 1 3 2 1 1 4 1 3 2 3 2 2 2 1 3 1 3 2 2 1 4 2 3 2 1 2 1 0 3 3 4 4 2 2 2\n",
      " 4 2 2 1 4 4 1 2 2 4 2 4 0 1 1 2 1 1 1 1 1 3 4 1 4 0 4 4 4 0 3 3 4 3 4 2 1\n",
      " 1 2 4 2 2 2 2 3 3 3 1 0 2 3 1 2 1 3 0 3 2 1 3 4 3 3 0 2 3 2 4 1 3 2 3 1 2\n",
      " 3 3 2 2 2 2 3 0 2 1 2 2 4 1 2 4 1 3 3 4 2 2 4 0 3 2 2 1 2 2 2 4 2 4 2 1 2\n",
      " 1 1 4 2 2 1 1 0 3 2 2 2 3 2 3 3 3 2 1 2 0 3 1 3 2 2 0 4 1 4 2 2 3 3 1 3 2\n",
      " 3 2 2 0 3 4 2 2 2 3 4 1 2 2 1 3 4 3 1 1 2 2 1 1 3 1 3 2 2 4 4 3 2 4 3 2 3\n",
      " 1 1 2 4 2 3 0 3 3 2 4 2 3 3 2 1 4 0 3 1 2 3 0 2 4 2 3 2 1 3 2 2 4 4 0 1 2\n",
      " 1 2 4 3]\n",
      "[[0.18107677 0.37968635 0.27725248 0.13996579 0.02201861]\n",
      " [0.06304234 0.14138675 0.62528014 0.15607561 0.01421516]\n",
      " [0.03965956 0.37806499 0.21882289 0.29218374 0.07126882]\n",
      " ...\n",
      " [0.03525931 0.09593355 0.62813247 0.16249107 0.0781836 ]\n",
      " [0.02807886 0.05881596 0.23348814 0.27569432 0.40392272]\n",
      " [0.0246688  0.1160478  0.26490807 0.48891001 0.10546533]]\n",
      "[0.37968635 0.14138675 0.37806499 0.16999613 0.20553409 0.0588331\n",
      " 0.2086219  0.08050183 0.05868635 0.10517436 0.25035886 0.14881523\n",
      " 0.14500115 0.15118159 0.35649849 0.20460591 0.1169741  0.18878752\n",
      " 0.06951484 0.18606045 0.12404701 0.4463712  0.14700268 0.1042915\n",
      " 0.25035886 0.08609891 0.12289555 0.17919751 0.10228588 0.48183069\n",
      " 0.21474461 0.12890441 0.12652414 0.2106643  0.37843204 0.19360605\n",
      " 0.1286539  0.0960696  0.45797    0.48331407 0.1287326  0.14463684\n",
      " 0.38370242 0.39085792 0.07089918 0.33530767 0.0687515  0.07047129\n",
      " 0.10722858 0.10920322 0.15391925 0.12684084 0.42216061 0.12845104\n",
      " 0.37240338 0.07839493 0.12237474 0.10229395 0.51238461 0.19498935\n",
      " 0.13889956 0.27148932 0.11222039 0.40753323 0.13174442 0.5266267\n",
      " 0.09227474 0.11135622 0.08236269 0.10850701 0.06909567 0.17667917\n",
      " 0.18822034 0.09250471 0.17754762 0.1739692  0.05899357 0.41211065\n",
      " 0.06311656 0.12190797 0.40316912 0.09233261 0.15751798 0.08760382\n",
      " 0.07215788 0.15065421 0.10923918 0.38749332 0.43313589 0.09846239\n",
      " 0.55431421 0.40840679 0.53095191 0.34332707 0.40952971 0.17350554\n",
      " 0.12173573 0.42467142 0.20073049 0.19592571 0.06499    0.08998011\n",
      " 0.14080113 0.10295001 0.1143652  0.06834595 0.05889473 0.10135478\n",
      " 0.11825143 0.12508117 0.50225862 0.54961394 0.17407399 0.20247891\n",
      " 0.14176896 0.09292921 0.16462212 0.21418536 0.21393714 0.06589219\n",
      " 0.11927154 0.49781041 0.1108106  0.10243436 0.10002719 0.42978571\n",
      " 0.06171394 0.43982006 0.11841977 0.06606455 0.22926967 0.13052891\n",
      " 0.50483574 0.14600145 0.16193729 0.1061558  0.13281997 0.23483978\n",
      " 0.11631026 0.1401842  0.18845504 0.07973042 0.34154063 0.09391392\n",
      " 0.1761622  0.14472986 0.57622265 0.11141233 0.13534974 0.12031908\n",
      " 0.08937989 0.0975994  0.14893515 0.14496376 0.16595701 0.08862107\n",
      " 0.07960743 0.43850489 0.12711758 0.13902785 0.06132435 0.42234091\n",
      " 0.07944797 0.10566232 0.54299178 0.19262378 0.0882344  0.17496248\n",
      " 0.08757598 0.16036766 0.07187803 0.09102433 0.17131599 0.14535769\n",
      " 0.11917413 0.38604145 0.06415873 0.38590618 0.08444562 0.18873713\n",
      " 0.09239496 0.16664441 0.11844811 0.44486281 0.19830158 0.43101814\n",
      " 0.39070678 0.10822941 0.16555256 0.05293132 0.39880219 0.50451577\n",
      " 0.09022215 0.14604395 0.14155115 0.20344173 0.17737516 0.07609187\n",
      " 0.17538396 0.17680827 0.10554271 0.0664757  0.08046181 0.41068123\n",
      " 0.21087745 0.09153532 0.11630558 0.45690613 0.10021996 0.12545038\n",
      " 0.13006895 0.2154626  0.09646958 0.44517369 0.08417808 0.1380771\n",
      " 0.08700688 0.16410632 0.12946915 0.3993403  0.12889972 0.1026473\n",
      " 0.07783084 0.14716941 0.13862732 0.12642472 0.16826286 0.06724775\n",
      " 0.16256576 0.19863652 0.07925477 0.11071954 0.07322582 0.42434934\n",
      " 0.15492035 0.38701466 0.37559207 0.22385086 0.06487351 0.10806141\n",
      " 0.38211776 0.45448564 0.06992027 0.13446167 0.53904104 0.42975011\n",
      " 0.10291073 0.39590211 0.08317539 0.07579224 0.11593928 0.1837007\n",
      " 0.09949346 0.08525233 0.0968992  0.06690455 0.07560682 0.11951013\n",
      " 0.15925397 0.38892279 0.3962605  0.21364231 0.10718959 0.07073514\n",
      " 0.24059246 0.13546009 0.1607843  0.1775585  0.11248052 0.06815815\n",
      " 0.15123105 0.14174668 0.10924248 0.16615968 0.46239531 0.0925604\n",
      " 0.10025522 0.07813045 0.44114269 0.10118594 0.06931658 0.12627933\n",
      " 0.12168111 0.06731239 0.25666026 0.07307751 0.15108338 0.39202378\n",
      " 0.13595753 0.13458418 0.11639142 0.17444096 0.09505673 0.12863563\n",
      " 0.39765047 0.07248148 0.41396307 0.09593355 0.05881596 0.1160478 ]\n"
     ]
    }
   ],
   "source": [
    "# This line prints the \"actual label\" of the testing set:\n",
    "print(y_test)\n",
    "\n",
    "# This line prints the \"predicted label\" for the testing set:\n",
    "print(y_predict)\n",
    "\n",
    "# This line prints the \"estimated likelihood of both label\" for the testing set:\n",
    "print(y_predict_prob)\n",
    "\n",
    "# This line prints the \"estimated likelihood of label=1\" for the testing set:\n",
    "print(y_predict_prob[:,1])"
   ]
  },
  {
   "cell_type": "markdown",
   "id": "dd7c94fc",
   "metadata": {},
   "source": [
    "# True Positive Rate (TPR) and False Positive Rate (FPR):"
   ]
  },
  {
   "cell_type": "code",
   "execution_count": 11,
   "id": "4c7d7ea5",
   "metadata": {},
   "outputs": [
    {
     "name": "stdout",
     "output_type": "stream",
     "text": [
      "[0.         0.00421941 0.00421941 0.03375527 0.03375527 0.03797468\n",
      " 0.03797468 0.05063291 0.05063291 0.06329114 0.06329114 0.08438819\n",
      " 0.08438819 0.092827   0.092827   0.11392405 0.11392405 0.14345992\n",
      " 0.14345992 0.16877637 0.16877637 0.19831224 0.19831224 0.21518987\n",
      " 0.22362869 0.23206751 0.23206751 0.23628692 0.23628692 0.24050633\n",
      " 0.24050633 0.25738397 0.25738397 0.27004219 0.27004219 0.29113924\n",
      " 0.29113924 0.33333333 0.33333333 0.33755274 0.33755274 0.38396624\n",
      " 0.38396624 0.4092827  0.4092827  0.41350211 0.41350211 0.4556962\n",
      " 0.4556962  0.45991561 0.45991561 0.46413502 0.46413502 0.4978903\n",
      " 0.4978903  0.5021097  0.5021097  0.51898734 0.51898734 0.53164557\n",
      " 0.53164557 0.54008439 0.54008439 0.59493671 0.59493671 0.61181435\n",
      " 0.61181435 0.66666667 0.66666667 0.6835443  0.6835443  0.71308017\n",
      " 0.71308017 0.72995781 0.72995781 0.73839662 0.73839662 0.76793249\n",
      " 0.76793249 0.78902954 0.78902954 0.80168776 0.80168776 0.81434599\n",
      " 0.81434599 0.82278481 0.82278481 0.85232068 0.85232068 0.87763713\n",
      " 0.87763713 0.89029536 0.89029536 0.91983122 0.91983122 0.9535865\n",
      " 0.9535865  1.         1.        ]\n",
      "[0.         0.         0.01587302 0.01587302 0.03174603 0.03174603\n",
      " 0.04761905 0.04761905 0.06349206 0.06349206 0.0952381  0.0952381\n",
      " 0.11111111 0.11111111 0.14285714 0.14285714 0.15873016 0.15873016\n",
      " 0.19047619 0.19047619 0.20634921 0.20634921 0.22222222 0.22222222\n",
      " 0.22222222 0.22222222 0.23809524 0.23809524 0.26984127 0.26984127\n",
      " 0.3015873  0.3015873  0.31746032 0.31746032 0.33333333 0.33333333\n",
      " 0.38095238 0.38095238 0.3968254  0.3968254  0.42857143 0.42857143\n",
      " 0.49206349 0.49206349 0.50793651 0.50793651 0.52380952 0.52380952\n",
      " 0.53968254 0.53968254 0.55555556 0.55555556 0.57142857 0.57142857\n",
      " 0.58730159 0.58730159 0.6031746  0.6031746  0.61904762 0.61904762\n",
      " 0.65079365 0.65079365 0.66666667 0.66666667 0.68253968 0.68253968\n",
      " 0.6984127  0.6984127  0.71428571 0.71428571 0.73015873 0.73015873\n",
      " 0.74603175 0.74603175 0.77777778 0.77777778 0.79365079 0.79365079\n",
      " 0.80952381 0.80952381 0.82539683 0.82539683 0.84126984 0.84126984\n",
      " 0.85714286 0.85714286 0.88888889 0.88888889 0.9047619  0.9047619\n",
      " 0.92063492 0.92063492 0.95238095 0.95238095 0.96825397 0.96825397\n",
      " 0.98412698 0.98412698 1.        ]\n"
     ]
    }
   ],
   "source": [
    "from sklearn import metrics\n",
    "\n",
    "fpr, tpr, thresholds = metrics.roc_curve(y_test, y_predict_prob[:,1], pos_label=1)\n",
    "\n",
    "print(fpr)\n",
    "print(tpr)"
   ]
  },
  {
   "cell_type": "markdown",
   "id": "54145758",
   "metadata": {},
   "source": [
    "# AUC:"
   ]
  },
  {
   "cell_type": "code",
   "execution_count": 12,
   "id": "fd4d39b6",
   "metadata": {},
   "outputs": [
    {
     "name": "stdout",
     "output_type": "stream",
     "text": [
      "0.5489250552541691\n"
     ]
    }
   ],
   "source": [
    "# AUC:\n",
    "AUC = metrics.auc(fpr, tpr)\n",
    "print(AUC)"
   ]
  },
  {
   "cell_type": "markdown",
   "id": "eb6f8f20",
   "metadata": {},
   "source": [
    "# ROC Curve:"
   ]
  },
  {
   "cell_type": "code",
   "execution_count": 13,
   "id": "a5b748b0",
   "metadata": {},
   "outputs": [
    {
     "data": {
      "image/png": "[encoded data removed]",
      "text/plain": [
       "<Figure size 432x288 with 1 Axes>"
      ]
     },
     "metadata": {
      "needs_background": "light"
     },
     "output_type": "display_data"
    }
   ],
   "source": [
    "# Importing the \"pyplot\" package of \"matplotlib\" library of python to generate \n",
    "# graphs and plot curves:\n",
    "import matplotlib.pyplot as plt\n",
    "\n",
    "# The following line will tell Jupyter Notebook to keep the figures inside the explorer page \n",
    "# rather than openng a new figure window:\n",
    "%matplotlib inline\n",
    "\n",
    "plt.figure()\n",
    "\n",
    "# Roc Curve:\n",
    "plt.plot(fpr, tpr, color='red', lw=2, \n",
    "         label='ROC Curve (area = %0.2f)' % AUC)\n",
    "\n",
    "# Random Guess line:\n",
    "plt.plot([0, 1], [0, 1], color='blue', lw=1, linestyle='--')\n",
    "\n",
    "# Defining The Range of X-Axis and Y-Axis:\n",
    "plt.xlim([-0.005, 1.005])\n",
    "plt.ylim([0.0, 1.01])\n",
    "\n",
    "# Labels, Title, Legend:\n",
    "plt.xlabel('False Positive Rate')\n",
    "plt.ylabel('True Positive Rate')\n",
    "plt.title('Receiver operating characteristic')\n",
    "plt.legend(loc=\"lower right\")\n",
    "\n",
    "plt.show()"
   ]
  },
  {
   "cell_type": "markdown",
   "id": "4d9e474b",
   "metadata": {},
   "source": [
    "## Conclusion\n",
    "### Model accuracy: 0.67 with Cross Validation\n",
    "### Model accuracy: 0.34 without Cross Validation"
   ]
  }
 ],
 "metadata": {
  "kernelspec": {
   "display_name": "Python 3",
   "language": "python",
   "name": "python3"
  },
  "language_info": {
   "codemirror_mode": {
    "name": "ipython",
    "version": 3
   },
   "file_extension": ".py",
   "mimetype": "text/x-python",
   "name": "python",
   "nbconvert_exporter": "python",
   "pygments_lexer": "ipython3",
   "version": "3.8.8"
  }
 },
 "nbformat": 4,
 "nbformat_minor": 5
}
