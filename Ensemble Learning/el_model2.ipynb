{
 "cells": [
  {
   "cell_type": "markdown",
   "id": "908eb19a",
   "metadata": {},
   "source": [
    "## Loading Data"
   ]
  },
  {
   "cell_type": "code",
   "execution_count": 1,
   "id": "6fd08d6a",
   "metadata": {},
   "outputs": [],
   "source": [
    "import numpy as np\n",
    "import pandas as pd\n",
    "df = pd.read_csv('Student Performance.csv')"
   ]
  },
  {
   "cell_type": "markdown",
   "id": "f321aa56",
   "metadata": {},
   "source": [
    "## Obtain label features"
   ]
  },
  {
   "cell_type": "code",
   "execution_count": 2,
   "id": "265dee4e",
   "metadata": {},
   "outputs": [
    {
     "name": "stdout",
     "output_type": "stream",
     "text": [
      "feature matrix\n",
      "[[0.72 0.72 0.74]\n",
      " [0.69 0.9  0.88]\n",
      " [0.9  0.95 0.93]\n",
      " ...\n",
      " [0.59 0.71 0.65]\n",
      " [0.68 0.78 0.77]\n",
      " [0.77 0.86 0.86]]\n",
      "size: (1000, 3)\n",
      "\n",
      "Labels\n",
      "[1 3 0 2 3 2 3 3 4 4 2 2 4 3 0 5 4 5 0 2 4 3 3 5 1 0 3 1 4 0 3 3 0 3 3 2 2\n",
      " 5 2 2 2 2 2 3 2 2 2 4 2 4 3 2 3 4 5 4 2 2 3 5 1 5 2 2 5 5 5 3 2 2 3 3 2 5\n",
      " 5 2 5 1 5 0 2 4 3 2 4 3 3 2 3 5 1 4 4 2 3 2 5 3 3 1 3 1 2 4 3 3 0 2 2 5 2\n",
      " 4 2 3 1 4 1 1 5 3 1 2 3 4 3 4 5 3 0 1 0 5 3 3 1 1 5 4 2 3 5 3 3 4 3 3 5 2\n",
      " 1 2 5 1 2 1 5 3 4 3 2 2 2 3 0 4 0 1 4 0 4 3 4 5 3 2 1 0 4 2 0 5 0 3 4 2 5\n",
      " 2 4 5 5 1 2 3 5 3 0 2 5 4 3 1 2 3 2 2 3 5 1 4 3 3 5 3 4 2 4 5 2 4 4 5 4 2\n",
      " 5 5 2 0 3 4 5 3 3 2 1 5 1 2 1 5 3 2 4 1 4 3 5 2 2 4 4 4 5 3 5 0 4 3 2 2 3\n",
      " 0 5 3 5 4 4 5 1 4 2 3 1 3 2 3 3 1 5 4 5 1 4 4 1 3 5 2 2 5 1 5 2 5 5 1 4 2\n",
      " 5 2 4 2 3 5 2 2 2 3 3 5 2 4 2 1 1 2 1 4 0 2 1 2 4 4 3 5 4 3 3 3 2 5 4 2 2\n",
      " 2 1 3 5 2 5 5 4 4 4 2 3 4 3 1 4 2 1 3 3 2 3 1 2 3 3 3 4 5 3 5 3 1 4 1 5 5\n",
      " 3 3 5 3 1 2 5 0 5 1 2 2 0 5 5 3 1 2 4 0 5 3 3 2 5 4 4 2 5 5 5 3 3 4 4 5 2\n",
      " 2 4 2 0 3 2 5 1 4 1 2 3 4 2 4 0 5 3 3 1 5 5 5 2 4 4 5 5 3 2 2 4 5 3 4 5 2\n",
      " 5 5 3 4 4 2 3 3 2 3 2 1 1 2 1 4 1 3 3 3 1 3 2 4 4 3 2 4 2 5 2 1 1 2 0 2 4\n",
      " 2 3 4 2 4 3 2 5 2 2 2 3 1 4 4 3 3 5 3 0 2 3 2 0 5 4 1 0 1 3 5 5 5 0 5 3 3\n",
      " 5 4 3 2 1 0 4 3 5 4 1 2 2 5 2 2 4 1 2 4 1 2 4 2 2 2 0 5 5 4 4 0 5 1 2 3 2\n",
      " 3 2 0 2 5 3 3 1 3 1 2 1 0 4 1 3 1 3 4 4 2 3 4 3 0 5 5 1 2 3 2 4 1 3 5 3 5\n",
      " 1 4 1 1 4 5 4 5 0 4 3 4 0 5 2 0 3 2 3 3 1 2 2 4 1 1 0 2 4 1 4 3 1 3 2 2 3\n",
      " 5 3 4 1 4 5 4 4 5 3 2 4 2 5 4 4 1 2 4 4 3 5 4 3 2 5 3 2 5 2 2 3 5 3 4 2 5\n",
      " 3 1 3 2 4 2 3 2 4 3 3 5 2 3 4 4 4 5 3 0 3 2 4 3 2 2 1 2 5 3 2 1 2 4 1 5 1\n",
      " 3 5 1 4 3 4 2 3 5 3 0 5 2 2 2 4 2 3 5 5 4 3 3 2 5 4 3 2 5 3 5 3 0 2 3 2 4\n",
      " 1 2 4 2 3 2 4 3 1 3 5 3 0 5 2 2 3 1 3 3 4 5 5 4 3 4 4 4 5 3 4 1 5 1 3 5 4\n",
      " 3 3 2 2 0 4 2 1 5 5 3 2 0 4 3 4 5 4 2 4 2 3 2 5 5 2 3 3 3 3 4 4 1 5 4 0 5\n",
      " 4 5 1 1 4 5 5 1 3 4 5 4 2 5 5 5 3 1 1 4 3 4 4 4 2 2 4 5 4 3 5 0 0 4 4 2 0\n",
      " 4 3 5 5 1 3 1 4 2 2 0 1 3 2 3 4 2 2 2 4 3 2 2 1 3 3 5 5 2 1 1 4 1 2 2 2 4\n",
      " 3 4 3 2 0 5 2 5 4 5 2 5 0 0 4 1 5 3 4 3 1 1 1 3 1 1 2 3 1 4 2 3 4 4 4 2 4\n",
      " 5 2 4 2 5 3 3 2 1 2 3 2 4 3 5 0 0 4 5 4 2 4 3 5 4 4 3 5 4 3 2 3 0 4 4 3 5\n",
      " 2 5 3 3 5 3 2 1 1 5 4 3 3 3 3 2 4 2 4 5 5 3 5 4 2 5 5 3 4 5 2 1 4 0 4 4 3\n",
      " 3]\n",
      "size: (1000,)\n"
     ]
    }
   ],
   "source": [
    "# convert these data into 2D numpy array\n",
    "# order: math percentage, reading score percentage, writing score percentage\n",
    "X = np.array([[df['math percentage'][0], \n",
    "              df['reading score percentage'][0], \n",
    "              df['writing score percentage'][0]]], \n",
    "             dtype = 'float')\n",
    "for i in range(1,1000):\n",
    "    X = np.append(X, [[df['math percentage'][i], \n",
    "                  df['reading score percentage'][i], \n",
    "                  df['writing score percentage'][i]]],axis=0)\n",
    "print('feature matrix')\n",
    "print(X)\n",
    "print('size: ' + str(X.shape))\n",
    "print()\n",
    "\n",
    "# lavel 0: master's degree\n",
    "if(df['parental level of education'][0] == \"master's degree\"):\n",
    "    first_elem = 0\n",
    "# lavel 1: bachelor's degree\n",
    "elif(df['parental level of education'][0] == \"bachelor's degree\"):\n",
    "    first_elem = 1\n",
    "# lavel 2: associate's degree\n",
    "elif(df['parental level of education'][0] == \"associate's degree\"):\n",
    "    first_elem = 2\n",
    "# lavel 3: some college\n",
    "elif(df['parental level of education'][0] == 'some college'):\n",
    "    first_elem = 3\n",
    "# lavel 4: high school\n",
    "elif(df['parental level of education'][0] == 'high school'):\n",
    "    first_elem = 4\n",
    "# lavel 5: some high school\n",
    "else:\n",
    "    first_elem = 5\n",
    "    \n",
    "y = np.array([first_elem], dtype = 'int')\n",
    "for i in range(1,1000):\n",
    "    if(df['parental level of education'][i] == \"master's degree\"):\n",
    "        y = np.append(y, 0)\n",
    "    elif(df['parental level of education'][i] == \"bachelor's degree\"):\n",
    "        y = np.append(y, 1)\n",
    "    elif(df['parental level of education'][i] == \"associate's degree\"):\n",
    "        y = np.append(y, 2)\n",
    "    elif(df['parental level of education'][i] == 'some college'):\n",
    "        y = np.append(y, 3)\n",
    "    elif(df['parental level of education'][i] == 'high school'):\n",
    "        y = np.append(y, 4)\n",
    "    else:\n",
    "        y = np.append(y, 5)\n",
    "print('Labels')\n",
    "print(y)\n",
    "print('size: ' + str(y.shape))"
   ]
  },
  {
   "cell_type": "code",
   "execution_count": 3,
   "id": "6e7c3b36",
   "metadata": {},
   "outputs": [],
   "source": [
    "from sklearn.ensemble import RandomForestClassifier, VotingClassifier\n",
    "from sklearn.neighbors import KNeighborsClassifier\n",
    "from sklearn.linear_model import LogisticRegression\n",
    "from sklearn.tree import DecisionTreeClassifier"
   ]
  },
  {
   "cell_type": "markdown",
   "id": "08815ffa",
   "metadata": {},
   "source": [
    "## Use sklearn functions to split the dataset into testing and training sets with the following parameters: test_size=0.3, random_state=6."
   ]
  },
  {
   "cell_type": "code",
   "execution_count": 4,
   "id": "41a1c618",
   "metadata": {},
   "outputs": [],
   "source": [
    "from sklearn.model_selection import train_test_split\n",
    "X_train, X_test, y_train, y_test = train_test_split(X, y, test_size=0.3, random_state=6)"
   ]
  },
  {
   "cell_type": "markdown",
   "id": "78b0fd77",
   "metadata": {},
   "source": [
    "## Ensemble Learning\n",
    "### Ensemble Learning uses a group of machine learning algorithms, and then combine the results of them using some techniques such as Voting to achieve higher accuracy."
   ]
  },
  {
   "cell_type": "markdown",
   "id": "56b4a1e6",
   "metadata": {},
   "source": [
    "### Using BootStrap"
   ]
  },
  {
   "cell_type": "code",
   "execution_count": 5,
   "id": "d48bc815",
   "metadata": {},
   "outputs": [
    {
     "name": "stdout",
     "output_type": "stream",
     "text": [
      "0.25666666666666665\n"
     ]
    }
   ],
   "source": [
    "import numpy as np\n",
    "from sklearn.metrics import accuracy_score\n",
    "from sklearn.utils import resample\n",
    "from sklearn.ensemble import RandomForestClassifier, VotingClassifier\n",
    "from sklearn.neighbors import KNeighborsClassifier\n",
    "from sklearn.linear_model import LogisticRegression\n",
    "from sklearn.tree import DecisionTreeClassifier\n",
    "\n",
    "bootstarp_size = int(np.floor( 0.8 * len(X_train) ))\n",
    "accuracy_list = list()\n",
    "\n",
    "for i in range(0, 19):\n",
    "    \n",
    "    # Step1 (Bootstrapping)\n",
    "    X_bag = resample(X_train, n_samples = bootstarp_size , random_state=i , replace = True)\n",
    "    y_bag = resample(y_train, n_samples = bootstarp_size , random_state=i , replace = True)\n",
    "    \n",
    "    # Step2 (Training)\n",
    "    Base_DecisionTree = DecisionTreeClassifier(random_state=3)\n",
    "\n",
    "    Base_logreg = LogisticRegression(max_iter=150)\n",
    "\n",
    "    Base_knn = KNeighborsClassifier(n_neighbors=57)\n",
    "\n",
    "    Base_rf = RandomForestClassifier(n_estimators=19)\n",
    "        \n",
    "    Base_eclf1 = VotingClassifier (estimators= [('dt', Base_DecisionTree), ('lr', Base_logreg), ('KNN', Base_knn), ('rf', Base_rf)], voting = 'hard')\n",
    "    Base_eclf1 = Base_eclf1.fit(X_bag, y_bag)\n",
    "    \n",
    "    Base_eclf2 = VotingClassifier (estimators= [('dt', Base_DecisionTree), ('lr', Base_logreg), ('KNN', Base_knn), ('rf', Base_rf)], voting = 'soft')\n",
    "    Base_eclf2 = Base_eclf2.fit(X_bag, y_bag)\n",
    "    \n",
    "    # Step3 (Base Learner Prediction)\n",
    "    y_predict1 = Base_eclf1.predict(X_test)\n",
    "    y_predict2 = Base_eclf2.predict(X_test)\n",
    "    \n",
    "    accuracy1 = accuracy_score(y_test, y_predict1)\n",
    "    accuracy2 = accuracy_score(y_test, y_predict2)\n",
    "\n",
    "    # Step4 (Voting)\n",
    "    curr_acc_list = [accuracy1, accuracy2]\n",
    "    accuracy_list.append(max(curr_acc_list))\n",
    "print(max(accuracy_list))"
   ]
  },
  {
   "cell_type": "code",
   "execution_count": 6,
   "id": "7128d691",
   "metadata": {},
   "outputs": [
    {
     "name": "stdout",
     "output_type": "stream",
     "text": [
      "18\n"
     ]
    }
   ],
   "source": [
    "highest_val = 0\n",
    "highest_val_index = 0\n",
    "for i in range(0, len(accuracy_list)):\n",
    "    if(highest_val < accuracy_list[i]):\n",
    "        highest_val = accuracy_list[i]\n",
    "        highest_val_index = i\n",
    "print(highest_val_index)"
   ]
  },
  {
   "cell_type": "markdown",
   "id": "efd6b7b5",
   "metadata": {},
   "source": [
    "#### Using BootStrap with Cross Validation"
   ]
  },
  {
   "cell_type": "code",
   "execution_count": 7,
   "id": "c7e68cc0",
   "metadata": {},
   "outputs": [
    {
     "name": "stdout",
     "output_type": "stream",
     "text": [
      "0.6321428571428571\n"
     ]
    }
   ],
   "source": [
    "import numpy as np\n",
    "from sklearn.metrics import accuracy_score\n",
    "from sklearn.utils import resample\n",
    "from sklearn.ensemble import RandomForestClassifier, VotingClassifier\n",
    "from sklearn.neighbors import KNeighborsClassifier\n",
    "from sklearn.linear_model import LogisticRegression\n",
    "from sklearn.tree import DecisionTreeClassifier\n",
    "from sklearn.model_selection import cross_val_score\n",
    "\n",
    "bootstarp_size = int(np.floor( 0.8 * len(X_train) ))\n",
    "final_accuracy_list = list()\n",
    "\n",
    "for i in range(0, 19):\n",
    "    \n",
    "    # Step1 (Bootstrapping)\n",
    "    X_bag = resample(X_train, n_samples = bootstarp_size , random_state=i , replace = True)\n",
    "    y_bag = resample(y_train, n_samples = bootstarp_size , random_state=i , replace = True)\n",
    "    \n",
    "    # Step2 (Training)\n",
    "    Base_DecisionTree = DecisionTreeClassifier(random_state=3)\n",
    "\n",
    "    Base_logreg = LogisticRegression(max_iter=150)\n",
    "\n",
    "    Base_knn = KNeighborsClassifier(n_neighbors=164)\n",
    "\n",
    "    Base_rf = RandomForestClassifier(n_estimators=19)\n",
    "        \n",
    "    Base_eclf1 = VotingClassifier (estimators= [('dt', Base_DecisionTree), ('lr', Base_logreg), ('KNN', Base_knn), ('rf', Base_rf)], voting = 'hard')\n",
    "    \n",
    "    Base_eclf2 = VotingClassifier (estimators= [('dt', Base_DecisionTree), ('lr', Base_logreg), ('KNN', Base_knn), ('rf', Base_rf)], voting = 'soft')\n",
    "        \n",
    "    # Step3 (Base Learner Prediction)\n",
    "    accuracy_list1 = cross_val_score(Base_eclf1, X_bag, y_bag, cv=10, scoring='accuracy')\n",
    "    accuracy_list2 = cross_val_score(Base_eclf2, X_bag, y_bag, cv=10, scoring='accuracy')\n",
    "    \n",
    "    accuracy_cv1 = accuracy_list1.mean()\n",
    "    accuracy_cv2 = accuracy_list2.mean()\n",
    "        \n",
    "    # Step4 (Voting)\n",
    "    curr_max_acc = [accuracy_cv1, accuracy_cv2]\n",
    "    final_accuracy_list.append(max(curr_max_acc))\n",
    "    \n",
    "print(max(final_accuracy_list))"
   ]
  },
  {
   "cell_type": "code",
   "execution_count": 8,
   "id": "11285d1a",
   "metadata": {},
   "outputs": [
    {
     "name": "stdout",
     "output_type": "stream",
     "text": [
      "Hard accuracy: 0.2733333333333333\n",
      "Soft accuracy: 0.18666666666666668\n"
     ]
    }
   ],
   "source": [
    "import numpy as np\n",
    "from sklearn.metrics import accuracy_score\n",
    "from sklearn.utils import resample\n",
    "from sklearn.ensemble import RandomForestClassifier, VotingClassifier\n",
    "from sklearn.neighbors import KNeighborsClassifier\n",
    "from sklearn.linear_model import LogisticRegression\n",
    "from sklearn.tree import DecisionTreeClassifier\n",
    "\n",
    "bootstarp_size = int(np.floor( 0.8 * len(X_train) ))\n",
    "accuracy_list = list()\n",
    "\n",
    "i = 18\n",
    "    \n",
    "# Step1 (Bootstrapping)\n",
    "X_bag = resample(X_train, n_samples = bootstarp_size , random_state=i , replace = True)\n",
    "y_bag = resample(y_train, n_samples = bootstarp_size , random_state=i , replace = True)\n",
    "\n",
    "# Step2 (Training)\n",
    "Base_DecisionTree = DecisionTreeClassifier(random_state=3)\n",
    "\n",
    "Base_logreg = LogisticRegression(max_iter=150)\n",
    "\n",
    "Base_knn = KNeighborsClassifier(n_neighbors=57)\n",
    "\n",
    "Base_rf = RandomForestClassifier(n_estimators=19)\n",
    "\n",
    "Base_eclf1 = VotingClassifier (estimators= [('dt', Base_DecisionTree), ('lr', Base_logreg), ('KNN', Base_knn), ('rf', Base_rf)], voting = 'hard')\n",
    "Base_eclf1 = Base_eclf1.fit(X_bag, y_bag)\n",
    "\n",
    "Base_eclf2 = VotingClassifier (estimators= [('dt', Base_DecisionTree), ('lr', Base_logreg), ('KNN', Base_knn), ('rf', Base_rf)], voting = 'soft')\n",
    "Base_eclf2 = Base_eclf2.fit(X_bag, y_bag)\n",
    "\n",
    "# Step3 (Base Learner Prediction)\n",
    "y_predict1 = Base_eclf1.predict(X_test)\n",
    "y_predict2 = Base_eclf2.predict(X_test)\n",
    "\n",
    "accuracy1 = accuracy_score(y_test, y_predict1)\n",
    "accuracy2 = accuracy_score(y_test, y_predict2)\n",
    "\n",
    "# Step4 (Voting)\n",
    "print(\"Hard accuracy: \" + str(accuracy1))\n",
    "print(\"Soft accuracy: \" + str(accuracy2))"
   ]
  },
  {
   "cell_type": "code",
   "execution_count": 9,
   "id": "8ace0212",
   "metadata": {},
   "outputs": [],
   "source": [
    "# Predicting the Binary Label:\n",
    "y_predict = Base_eclf2.predict(X_test)\n",
    "\n",
    "# Estimating the probability (likelihood) of Each Label: \n",
    "y_predict_prob = Base_eclf2.predict_proba(X_test)"
   ]
  },
  {
   "cell_type": "code",
   "execution_count": 10,
   "id": "7c1b06b5",
   "metadata": {},
   "outputs": [
    {
     "name": "stdout",
     "output_type": "stream",
     "text": [
      "[4 3 1 5 4 2 5 4 4 2 2 4 4 5 1 3 2 2 4 5 0 5 2 2 3 4 4 3 1 0 5 2 5 1 2 3 2\n",
      " 3 3 3 1 4 3 5 2 2 0 2 3 4 1 4 5 0 3 1 3 3 3 1 3 2 5 2 4 5 3 2 3 3 2 2 5 1\n",
      " 5 3 3 5 5 5 3 3 3 3 4 5 2 3 5 5 4 3 3 5 4 4 2 4 5 2 2 4 4 0 4 4 2 5 4 3 2\n",
      " 4 4 3 4 2 4 3 4 1 2 0 5 2 3 5 4 5 5 1 5 2 0 2 4 5 1 3 4 4 1 4 4 5 4 4 3 5\n",
      " 5 4 2 2 0 3 2 3 5 0 2 5 2 5 5 3 0 5 3 0 2 1 3 3 4 1 4 2 0 3 2 2 2 4 3 1 4\n",
      " 0 4 5 1 1 3 5 1 5 4 3 4 5 2 1 1 3 5 5 3 1 5 4 4 5 2 4 5 5 2 2 2 5 3 5 4 2\n",
      " 3 2 4 5 2 2 4 2 3 3 5 2 2 3 3 2 5 4 3 3 3 2 4 4 3 3 5 5 4 3 2 2 2 3 5 0 3\n",
      " 5 2 4 5 5 5 5 5 4 3 4 1 0 3 3 5 5 4 3 3 5 2 1 1 5 4 0 4 2 2 5 4 5 2 4 4 1\n",
      " 1 4 3 3]\n",
      "[4 4 3 5 5 0 3 5 2 2 4 5 3 1 2 2 2 5 2 4 2 3 4 2 4 3 4 3 0 5 4 3 5 1 4 3 3\n",
      " 4 2 4 2 3 1 3 5 0 5 5 4 3 5 2 5 3 2 4 3 2 4 4 4 3 3 5 5 3 4 3 3 2 3 4 4 5\n",
      " 3 2 2 5 1 3 4 3 5 2 3 3 0 2 3 2 3 4 5 5 5 1 3 5 2 3 3 0 3 0 4 1 3 3 3 2 5\n",
      " 3 3 3 2 3 2 2 4 2 5 2 3 2 1 4 2 4 3 0 2 4 3 5 5 5 1 3 3 5 2 2 4 4 2 4 4 2\n",
      " 2 1 1 3 2 5 5 4 2 3 3 4 1 2 1 2 1 4 2 3 5 4 1 3 2 0 5 5 0 2 2 3 5 3 3 5 5\n",
      " 4 5 2 2 4 2 5 2 3 5 4 2 3 4 3 4 0 4 3 4 3 2 2 5 4 4 4 4 3 3 2 3 5 4 2 3 2\n",
      " 3 2 2 3 2 3 2 1 4 0 2 3 5 1 2 5 2 5 5 4 5 2 1 4 0 3 2 2 4 3 3 2 5 5 5 1 1\n",
      " 2 2 3 4 5 4 5 3 1 2 3 5 5 1 3 1 4 1 1 3 1 5 3 2 5 5 0 2 2 2 1 3 1 4 2 4 2\n",
      " 3 0 3 1]\n",
      "[[0.04395029 0.04096001 0.11592149 0.21402043 0.46558832 0.11955947]\n",
      " [0.0144576  0.02947339 0.20149383 0.07077066 0.42287114 0.26093338]\n",
      " [0.01863636 0.32405988 0.08662438 0.35438004 0.12945449 0.08684485]\n",
      " ...\n",
      " [0.43179904 0.08259838 0.07325392 0.22474294 0.11748632 0.0701194 ]\n",
      " [0.04137009 0.20459676 0.14278628 0.47912554 0.06851641 0.06360491]\n",
      " [0.02035054 0.43011091 0.13091051 0.17148539 0.08863587 0.15850678]]\n",
      "[0.04096001 0.02947339 0.32405988 0.02886717 0.08154047 0.09647082\n",
      " 0.11077624 0.05881788 0.14697169 0.07442388 0.08222396 0.01494678\n",
      " 0.03863258 0.43389779 0.0650648  0.14886929 0.13862776 0.06248848\n",
      " 0.05787388 0.06146033 0.0308011  0.06365907 0.076771   0.08698471\n",
      " 0.08222396 0.01563829 0.02810222 0.03833536 0.1179055  0.11602031\n",
      " 0.04216816 0.08786543 0.01022869 0.4086853  0.0213511  0.06304459\n",
      " 0.10514436 0.0879688  0.05548175 0.03220676 0.09035583 0.03945646\n",
      " 0.39144296 0.1102663  0.22170106 0.10127838 0.21533262 0.11758777\n",
      " 0.12439655 0.12323757 0.01467479 0.02351282 0.06496388 0.0676668\n",
      " 0.10294434 0.05952993 0.06716652 0.13102897 0.04301339 0.20083795\n",
      " 0.08331928 0.04608509 0.13605803 0.0208459  0.05428643 0.15985805\n",
      " 0.04161892 0.12990215 0.12871067 0.02819405 0.05196372 0.05337678\n",
      " 0.07435721 0.0508012  0.04624024 0.15629546 0.06151582 0.01461073\n",
      " 0.60417407 0.05855966 0.01910454 0.05981709 0.04697611 0.08667986\n",
      " 0.0090086  0.06823363 0.15873019 0.11961893 0.08927003 0.04150523\n",
      " 0.08229776 0.03653824 0.07738197 0.0707069  0.03036331 0.41320038\n",
      " 0.07964829 0.07137979 0.07879343 0.01872272 0.07206171 0.12695027\n",
      " 0.0824862  0.02533682 0.08099163 0.54819873 0.14384408 0.21710677\n",
      " 0.10884506 0.1291953  0.07587159 0.08582933 0.09172925 0.11887951\n",
      " 0.02956492 0.02833109 0.03138814 0.05515542 0.07680502 0.05243377\n",
      " 0.06169839 0.28318079 0.00697232 0.28426131 0.4437669  0.08832624\n",
      " 0.12391432 0.03125178 0.07350453 0.273583   0.03409303 0.02283193\n",
      " 0.08915929 0.09617612 0.2193392  0.03036474 0.41193535 0.08963743\n",
      " 0.09046905 0.07488244 0.05553748 0.08419524 0.07641932 0.06125735\n",
      " 0.06482347 0.05561336 0.1045169  0.0330907  0.06780471 0.4307174\n",
      " 0.52881263 0.02339324 0.03856782 0.01548103 0.06597222 0.04160532\n",
      " 0.04002788 0.09262779 0.02383712 0.03486303 0.6183086  0.06135108\n",
      " 0.48654617 0.09076921 0.33831079 0.05274155 0.11920566 0.1724652\n",
      " 0.02135884 0.03509108 0.41311289 0.02815157 0.06214866 0.08963908\n",
      " 0.12522111 0.02059585 0.07586865 0.04054086 0.20102044 0.06099699\n",
      " 0.09214647 0.05100048 0.09549398 0.10840462 0.01530214 0.03025092\n",
      " 0.06930307 0.09952599 0.15970743 0.07142548 0.07757599 0.08914672\n",
      " 0.07898312 0.03861985 0.01272365 0.03140035 0.03331094 0.03194838\n",
      " 0.06219314 0.05328522 0.13661403 0.12213478 0.0585357  0.06984547\n",
      " 0.06683401 0.05472392 0.06513281 0.12573717 0.01232893 0.14095779\n",
      " 0.06260502 0.02388083 0.08192673 0.07355606 0.07451736 0.04149306\n",
      " 0.06934883 0.02834622 0.03411683 0.04310913 0.05376112 0.02713508\n",
      " 0.02621114 0.02764003 0.07166383 0.02739354 0.06765518 0.05682463\n",
      " 0.03096517 0.36977021 0.07700806 0.14037644 0.07952505 0.16620643\n",
      " 0.04139732 0.43691279 0.14049592 0.14017241 0.06797968 0.024944\n",
      " 0.10970863 0.04355071 0.1128934  0.05331082 0.32896088 0.04737168\n",
      " 0.1482471  0.05105744 0.05607133 0.10624668 0.04773516 0.07398135\n",
      " 0.05875972 0.02670141 0.14486033 0.11551807 0.07408488 0.38166279\n",
      " 0.40782106 0.12633059 0.05519337 0.03100653 0.05886847 0.10420051\n",
      " 0.05637692 0.01165476 0.07300159 0.32367126 0.2160651  0.05657911\n",
      " 0.06212276 0.07384241 0.39016449 0.08040913 0.34920276 0.02429314\n",
      " 0.29356885 0.41040654 0.05964692 0.34314813 0.20221151 0.02726846\n",
      " 0.19948965 0.15449748 0.04207776 0.2456041  0.02854606 0.17976969\n",
      " 0.07575774 0.48421121 0.06419914 0.36670002 0.07929013 0.02858737\n",
      " 0.02742142 0.15247646 0.04086725 0.08259838 0.20459676 0.43011091]\n"
     ]
    }
   ],
   "source": [
    "# This line prints the \"actual label\" of the testing set:\n",
    "print(y_test)\n",
    "\n",
    "# This line prints the \"predicted label\" for the testing set:\n",
    "print(y_predict)\n",
    "\n",
    "# This line prints the \"estimated likelihood of both label\" for the testing set:\n",
    "print(y_predict_prob)\n",
    "\n",
    "# This line prints the \"estimated likelihood of label=1\" for the testing set:\n",
    "print(y_predict_prob[:,1])"
   ]
  },
  {
   "cell_type": "markdown",
   "id": "dd7c94fc",
   "metadata": {},
   "source": [
    "# True Positive Rate (TPR) and False Positive Rate (FPR):"
   ]
  },
  {
   "cell_type": "code",
   "execution_count": 11,
   "id": "4c7d7ea5",
   "metadata": {},
   "outputs": [
    {
     "name": "stdout",
     "output_type": "stream",
     "text": [
      "[0.         0.003663   0.04761905 0.04761905 0.05128205 0.05128205\n",
      " 0.08791209 0.08791209 0.1025641  0.1025641  0.13553114 0.13553114\n",
      " 0.15018315 0.15018315 0.16117216 0.16117216 0.1978022  0.1978022\n",
      " 0.25641026 0.25641026 0.28571429 0.28571429 0.34065934 0.34065934\n",
      " 0.3956044  0.4029304  0.42857143 0.42857143 0.50915751 0.50915751\n",
      " 0.56043956 0.56043956 0.59340659 0.59340659 0.62271062 0.62271062\n",
      " 0.66300366 0.66300366 0.67399267 0.67399267 0.68864469 0.68864469\n",
      " 0.69230769 0.69230769 0.7032967  0.7032967  0.76190476 0.76190476\n",
      " 0.79120879 0.79120879 0.8974359  0.8974359  0.97435897 0.97435897\n",
      " 1.        ]\n",
      "[0.         0.         0.         0.03703704 0.03703704 0.07407407\n",
      " 0.07407407 0.11111111 0.11111111 0.14814815 0.14814815 0.22222222\n",
      " 0.22222222 0.25925926 0.25925926 0.2962963  0.2962963  0.33333333\n",
      " 0.33333333 0.37037037 0.37037037 0.40740741 0.40740741 0.48148148\n",
      " 0.48148148 0.48148148 0.48148148 0.51851852 0.51851852 0.55555556\n",
      " 0.55555556 0.59259259 0.59259259 0.62962963 0.62962963 0.66666667\n",
      " 0.66666667 0.7037037  0.7037037  0.74074074 0.74074074 0.77777778\n",
      " 0.77777778 0.81481481 0.81481481 0.85185185 0.85185185 0.88888889\n",
      " 0.88888889 0.92592593 0.92592593 0.96296296 0.96296296 1.\n",
      " 1.        ]\n"
     ]
    }
   ],
   "source": [
    "from sklearn import metrics\n",
    "\n",
    "fpr, tpr, thresholds = metrics.roc_curve(y_test, y_predict_prob[:,1], pos_label=1)\n",
    "\n",
    "print(fpr)\n",
    "print(tpr)"
   ]
  },
  {
   "cell_type": "markdown",
   "id": "54145758",
   "metadata": {},
   "source": [
    "# AUC:"
   ]
  },
  {
   "cell_type": "code",
   "execution_count": 12,
   "id": "fd4d39b6",
   "metadata": {},
   "outputs": [
    {
     "name": "stdout",
     "output_type": "stream",
     "text": [
      "0.5609822276488942\n"
     ]
    }
   ],
   "source": [
    "# AUC:\n",
    "AUC = metrics.auc(fpr, tpr)\n",
    "print(AUC)"
   ]
  },
  {
   "cell_type": "markdown",
   "id": "eb6f8f20",
   "metadata": {},
   "source": [
    "# ROC Curve:"
   ]
  },
  {
   "cell_type": "code",
   "execution_count": 13,
   "id": "a5b748b0",
   "metadata": {},
   "outputs": [
    {
     "data": {
      "image/png": "[encoded data removed]",
      "text/plain": [
       "<Figure size 432x288 with 1 Axes>"
      ]
     },
     "metadata": {
      "needs_background": "light"
     },
     "output_type": "display_data"
    }
   ],
   "source": [
    "# Importing the \"pyplot\" package of \"matplotlib\" library of python to generate \n",
    "# graphs and plot curves:\n",
    "import matplotlib.pyplot as plt\n",
    "\n",
    "# The following line will tell Jupyter Notebook to keep the figures inside the explorer page \n",
    "# rather than openng a new figure window:\n",
    "%matplotlib inline\n",
    "\n",
    "plt.figure()\n",
    "\n",
    "# Roc Curve:\n",
    "plt.plot(fpr, tpr, color='red', lw=2, \n",
    "         label='ROC Curve (area = %0.2f)' % AUC)\n",
    "\n",
    "# Random Guess line:\n",
    "plt.plot([0, 1], [0, 1], color='blue', lw=1, linestyle='--')\n",
    "\n",
    "# Defining The Range of X-Axis and Y-Axis:\n",
    "plt.xlim([-0.005, 1.005])\n",
    "plt.ylim([0.0, 1.01])\n",
    "\n",
    "# Labels, Title, Legend:\n",
    "plt.xlabel('False Positive Rate')\n",
    "plt.ylabel('True Positive Rate')\n",
    "plt.title('Receiver operating characteristic')\n",
    "plt.legend(loc=\"lower right\")\n",
    "\n",
    "plt.show()"
   ]
  },
  {
   "cell_type": "markdown",
   "id": "4d9e474b",
   "metadata": {},
   "source": [
    "## Conclusion\n",
    "### Model accuracy: 0.63 with Cross Validation\n",
    "### Model accuracy: 0.27 without Cross Validation"
   ]
  }
 ],
 "metadata": {
  "kernelspec": {
   "display_name": "Python 3",
   "language": "python",
   "name": "python3"
  },
  "language_info": {
   "codemirror_mode": {
    "name": "ipython",
    "version": 3
   },
   "file_extension": ".py",
   "mimetype": "text/x-python",
   "name": "python",
   "nbconvert_exporter": "python",
   "pygments_lexer": "ipython3",
   "version": "3.8.8"
  }
 },
 "nbformat": 4,
 "nbformat_minor": 5
}
