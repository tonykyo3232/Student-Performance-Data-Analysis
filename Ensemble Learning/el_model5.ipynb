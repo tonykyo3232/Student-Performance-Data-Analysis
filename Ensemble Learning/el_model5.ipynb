{
 "cells": [
  {
   "cell_type": "markdown",
   "id": "908eb19a",
   "metadata": {},
   "source": [
    "## Loading Data"
   ]
  },
  {
   "cell_type": "code",
   "execution_count": 1,
   "id": "6fd08d6a",
   "metadata": {},
   "outputs": [],
   "source": [
    "import numpy as np\n",
    "import pandas as pd\n",
    "df = pd.read_csv('Student Performance.csv')"
   ]
  },
  {
   "cell_type": "markdown",
   "id": "f321aa56",
   "metadata": {},
   "source": [
    "## Obtain label features"
   ]
  },
  {
   "cell_type": "code",
   "execution_count": 2,
   "id": "265dee4e",
   "metadata": {},
   "outputs": [
    {
     "name": "stdout",
     "output_type": "stream",
     "text": [
      "feature matrix\n",
      "[[0.72 0.72 0.74]\n",
      " [0.69 0.9  0.88]\n",
      " [0.9  0.95 0.93]\n",
      " ...\n",
      " [0.59 0.71 0.65]\n",
      " [0.68 0.78 0.77]\n",
      " [0.77 0.86 0.86]]\n",
      "size: (1000, 3)\n",
      "\n",
      "Labels\n",
      "[1 2 1 0 2 1 1 1 3 1 2 3 1 0 0 2 2 1 2 2 3 1 3 2 3 0 1 2 2 3 3 1 4 3 4 4 3\n",
      " 3 3 1 2 2 1 1 4 1 0 2 3 2 4 4 2 3 2 2 4 3 3 2 4 0 0 2 3 1 3 2 1 2 3 3 0 2\n",
      " 2 1 4 0 3 4 1 1 0 4 3 2 2 3 0 3 2 2 2 2 1 2 1 4 3 3 1 3 3 1 2 2 3 4 1 1 3\n",
      " 2 0 3 4 2 1 3 3 2 2 1 2 3 4 1 1 3 3 0 3 2 4 2 3 2 1 4 2 3 3 2 4 0 3 2 1 2\n",
      " 3 4 0 0 1 3 3 2 4 1 1 3 1 4 1 2 4 2 2 1 1 2 0 4 3 2 2 2 1 2 1 3 2 2 4 3 2\n",
      " 2 4 3 1 2 4 3 1 3 2 3 2 4 1 1 2 3 2 1 2 3 4 4 1 1 3 2 2 2 4 1 4 2 1 1 3 1\n",
      " 2 3 1 4 2 3 0 2 3 2 1 4 2 3 3 3 1 2 3 4 3 4 3 2 4 1 1 2 0 3 1 3 3 4 2 2 1\n",
      " 2 2 2 2 4 3 3 2 3 3 4 2 2 3 3 1 2 2 4 2 1 3 3 3 3 1 1 4 1 1 4 2 3 2 4 3 1\n",
      " 0 4 2 3 0 3 2 1 2 0 4 2 1 3 1 1 3 2 2 2 3 2 1 3 2 4 2 2 2 2 2 0 2 1 2 2 4\n",
      " 1 2 1 3 2 1 3 2 2 1 3 3 2 1 2 3 4 1 4 2 2 2 1 0 2 3 3 1 1 2 3 2 0 2 2 0 3\n",
      " 4 2 3 3 3 4 3 3 0 0 1 2 2 4 0 4 4 2 3 3 4 3 4 2 2 0 1 2 1 3 2 0 0 3 2 2 1\n",
      " 1 3 3 3 4 3 1 2 4 2 2 3 4 2 3 3 0 1 2 2 2 0 2 2 2 2 0 2 2 3 3 2 3 2 3 0 1\n",
      " 0 2 3 2 1 1 2 4 2 2 2 2 3 3 4 1 2 1 4 2 0 2 3 0 0 2 2 2 2 3 1 3 4 3 3 4 1\n",
      " 3 2 0 1 2 3 2 1 0 0 2 2 2 1 3 2 3 1 4 3 1 2 4 3 1 0 1 2 2 3 0 3 1 1 2 3 4\n",
      " 3 1 3 2 3 2 2 4 2 2 3 2 2 2 4 4 1 2 2 3 4 0 2 3 2 3 3 4 0 2 2 2 2 1 1 3 4\n",
      " 2 2 2 1 3 3 2 2 3 1 1 4 3 1 3 1 0 2 2 4 0 0 1 1 3 3 4 3 3 3 2 0 2 2 0 2 0\n",
      " 4 4 2 2 1 0 3 3 3 2 4 3 3 2 2 2 4 1 3 2 2 2 0 2 4 3 3 2 2 1 2 0 4 3 1 3 3\n",
      " 2 3 1 1 2 3 0 1 3 4 3 3 3 1 4 1 1 3 4 1 3 2 0 3 0 1 1 2 3 3 3 2 2 3 2 3 2\n",
      " 2 1 2 3 2 3 2 2 3 1 4 2 3 3 3 1 1 2 1 4 4 3 0 4 2 4 2 3 2 3 2 0 3 2 4 1 0\n",
      " 3 1 0 3 2 3 3 2 4 3 3 1 1 2 2 2 4 2 3 1 2 1 4 4 4 3 2 1 0 2 3 4 2 2 1 3 2\n",
      " 3 0 2 2 1 3 3 2 2 1 3 4 2 2 2 4 3 4 3 1 2 3 3 1 3 1 2 1 3 0 1 3 1 2 1 1 1\n",
      " 2 0 4 3 1 1 2 2 1 4 1 2 2 1 3 3 4 1 4 3 4 4 2 2 2 4 1 2 0 3 4 2 1 0 0 2 4\n",
      " 2 1 0 3 1 2 0 3 4 1 2 2 2 2 3 1 0 2 0 1 1 2 4 0 1 2 3 2 1 1 3 4 2 3 2 3 2\n",
      " 0 4 4 2 1 1 2 1 2 2 4 3 2 2 3 2 1 4 2 1 2 1 4 2 2 3 2 3 3 2 4 1 3 4 2 4 2\n",
      " 3 3 4 4 0 3 4 4 1 1 3 3 3 2 0 3 3 3 1 3 2 4 3 0 2 2 1 4 4 2 2 1 3 2 3 1 3\n",
      " 4 4 3 4 2 2 3 3 2 2 3 0 4 3 3 2 3 2 0 1 2 1 3 1 4 4 3 4 2 2 4 2 3 3 2 0 3\n",
      " 4 2 3 3 0 2 4 1 3 2 0 3 0 2 1 2 3 2 1 3 1 0 2 0 2 4 0 3 4 1 3 3 0 4 2 2 3\n",
      " 3]\n",
      "size: (1000,)\n"
     ]
    }
   ],
   "source": [
    "# convert these data into 2D numpy array\n",
    "# order: math percentage, reading score percentage, writing score percentage\n",
    "X = np.array([[df['math percentage'][0], \n",
    "              df['reading score percentage'][0], \n",
    "              df['writing score percentage'][0]]], \n",
    "             dtype = 'float')\n",
    "for i in range(1,1000):\n",
    "    X = np.append(X, [[df['math percentage'][i], \n",
    "                  df['reading score percentage'][i], \n",
    "                  df['writing score percentage'][i]]],axis=0)\n",
    "print('feature matrix')\n",
    "print(X)\n",
    "print('size: ' + str(X.shape))\n",
    "print()\n",
    "\n",
    "# Group A to Group E labeled as 0,1,2,3,4\n",
    "if(df['race/ethnicity'][0] == 'group A'):\n",
    "    first_elem = 0\n",
    "elif(df['race/ethnicity'][0] == 'group B'):\n",
    "    first_elem = 1\n",
    "elif(df['race/ethnicity'][0] == 'group C'):\n",
    "    first_elem = 2\n",
    "elif(df['race/ethnicity'][0] == 'group D'):\n",
    "    first_elem = 3\n",
    "else:\n",
    "    first_elem = 4\n",
    "    \n",
    "y = np.array([first_elem], dtype = 'int')\n",
    "for i in range(1,1000):\n",
    "    if(df['race/ethnicity'][i] == 'group A'):\n",
    "        y = np.append(y, 0)\n",
    "    elif(df['race/ethnicity'][i] == 'group B'):\n",
    "        y = np.append(y, 1)\n",
    "    elif(df['race/ethnicity'][i] == 'group C'):\n",
    "        y = np.append(y, 2)\n",
    "    elif(df['race/ethnicity'][i] == 'group D'):\n",
    "        y = np.append(y, 3)\n",
    "    else:\n",
    "        y = np.append(y, 4)\n",
    "print('Labels')\n",
    "print(y)\n",
    "print('size: ' + str(y.shape))"
   ]
  },
  {
   "cell_type": "code",
   "execution_count": 3,
   "id": "6e7c3b36",
   "metadata": {},
   "outputs": [],
   "source": [
    "from sklearn.ensemble import RandomForestClassifier, VotingClassifier\n",
    "from sklearn.neighbors import KNeighborsClassifier\n",
    "from sklearn.linear_model import LogisticRegression\n",
    "from sklearn.tree import DecisionTreeClassifier"
   ]
  },
  {
   "cell_type": "markdown",
   "id": "08815ffa",
   "metadata": {},
   "source": [
    "## Use sklearn functions to split the dataset into testing and training sets with the following parameters: test_size=0.3, random_state=6."
   ]
  },
  {
   "cell_type": "code",
   "execution_count": 4,
   "id": "41a1c618",
   "metadata": {},
   "outputs": [],
   "source": [
    "from sklearn.model_selection import train_test_split\n",
    "X_train, X_test, y_train, y_test = train_test_split(X, y, test_size=0.3, random_state=6)"
   ]
  },
  {
   "cell_type": "markdown",
   "id": "78b0fd77",
   "metadata": {},
   "source": [
    "## Ensemble Learning\n",
    "### Ensemble Learning uses a group of machine learning algorithms, and then combine the results of them using some techniques such as Voting to achieve higher accuracy."
   ]
  },
  {
   "cell_type": "markdown",
   "id": "56b4a1e6",
   "metadata": {},
   "source": [
    "### Using BootStrap"
   ]
  },
  {
   "cell_type": "code",
   "execution_count": 5,
   "id": "d48bc815",
   "metadata": {},
   "outputs": [
    {
     "name": "stdout",
     "output_type": "stream",
     "text": [
      "0.3566666666666667\n"
     ]
    }
   ],
   "source": [
    "import numpy as np\n",
    "from sklearn.metrics import accuracy_score\n",
    "from sklearn.utils import resample\n",
    "from sklearn.ensemble import RandomForestClassifier, VotingClassifier\n",
    "from sklearn.neighbors import KNeighborsClassifier\n",
    "from sklearn.linear_model import LogisticRegression\n",
    "from sklearn.tree import DecisionTreeClassifier\n",
    "\n",
    "bootstarp_size = int(np.floor( 0.8 * len(X_train) ))\n",
    "accuracy_list = list()\n",
    "\n",
    "for i in range(0, 19):\n",
    "    \n",
    "    # Step1 (Bootstrapping)\n",
    "    X_bag = resample(X_train, n_samples = bootstarp_size , random_state=i , replace = True)\n",
    "    y_bag = resample(y_train, n_samples = bootstarp_size , random_state=i , replace = True)\n",
    "    \n",
    "    # Step2 (Training)\n",
    "    Base_DecisionTree = DecisionTreeClassifier(random_state=3)\n",
    "\n",
    "    Base_logreg = LogisticRegression(max_iter=150)\n",
    "\n",
    "    Base_knn = KNeighborsClassifier(n_neighbors=64)\n",
    "\n",
    "    Base_rf = RandomForestClassifier(n_estimators=19)\n",
    "        \n",
    "    Base_eclf1 = VotingClassifier (estimators= [('dt', Base_DecisionTree), ('lr', Base_logreg), ('KNN', Base_knn), ('rf', Base_rf)], voting = 'hard')\n",
    "    Base_eclf1 = Base_eclf1.fit(X_bag, y_bag)\n",
    "    \n",
    "    Base_eclf2 = VotingClassifier (estimators= [('dt', Base_DecisionTree), ('lr', Base_logreg), ('KNN', Base_knn), ('rf', Base_rf)], voting = 'soft')\n",
    "    Base_eclf2 = Base_eclf2.fit(X_bag, y_bag)\n",
    "    \n",
    "    # Step3 (Base Learner Prediction)\n",
    "    y_predict1 = Base_eclf1.predict(X_test)\n",
    "    y_predict2 = Base_eclf2.predict(X_test)\n",
    "    \n",
    "    accuracy1 = accuracy_score(y_test, y_predict1)\n",
    "    accuracy2 = accuracy_score(y_test, y_predict2)\n",
    "\n",
    "    # Step4 (Voting)\n",
    "    curr_acc_list = [accuracy1, accuracy2]\n",
    "    accuracy_list.append(max(curr_acc_list))\n",
    "print(max(accuracy_list))"
   ]
  },
  {
   "cell_type": "code",
   "execution_count": 6,
   "id": "7128d691",
   "metadata": {},
   "outputs": [
    {
     "name": "stdout",
     "output_type": "stream",
     "text": [
      "15\n"
     ]
    }
   ],
   "source": [
    "highest_val = 0\n",
    "highest_val_index = 0\n",
    "for i in range(0, len(accuracy_list)):\n",
    "    if(highest_val < accuracy_list[i]):\n",
    "        highest_val = accuracy_list[i]\n",
    "        highest_val_index = i\n",
    "print(highest_val_index)"
   ]
  },
  {
   "cell_type": "markdown",
   "id": "efd6b7b5",
   "metadata": {},
   "source": [
    "#### Using BootStrap with Cross Validation"
   ]
  },
  {
   "cell_type": "code",
   "execution_count": 7,
   "id": "c7e68cc0",
   "metadata": {},
   "outputs": [
    {
     "name": "stdout",
     "output_type": "stream",
     "text": [
      "0.6464285714285715\n"
     ]
    }
   ],
   "source": [
    "import numpy as np\n",
    "from sklearn.metrics import accuracy_score\n",
    "from sklearn.utils import resample\n",
    "from sklearn.ensemble import RandomForestClassifier, VotingClassifier\n",
    "from sklearn.neighbors import KNeighborsClassifier\n",
    "from sklearn.linear_model import LogisticRegression\n",
    "from sklearn.tree import DecisionTreeClassifier\n",
    "from sklearn.model_selection import cross_val_score\n",
    "\n",
    "bootstarp_size = int(np.floor( 0.8 * len(X_train) ))\n",
    "final_accuracy_list = list()\n",
    "\n",
    "for i in range(0, 19):\n",
    "    \n",
    "    # Step1 (Bootstrapping)\n",
    "    X_bag = resample(X_train, n_samples = bootstarp_size , random_state=i , replace = True)\n",
    "    y_bag = resample(y_train, n_samples = bootstarp_size , random_state=i , replace = True)\n",
    "    \n",
    "    # Step2 (Training)\n",
    "    Base_DecisionTree = DecisionTreeClassifier(random_state=3)\n",
    "\n",
    "    Base_logreg = LogisticRegression(max_iter=150)\n",
    "\n",
    "    Base_knn = KNeighborsClassifier(n_neighbors=29)\n",
    "\n",
    "    Base_rf = RandomForestClassifier(n_estimators=19)\n",
    "        \n",
    "    Base_eclf1 = VotingClassifier (estimators= [('dt', Base_DecisionTree), ('lr', Base_logreg), ('KNN', Base_knn), ('rf', Base_rf)], voting = 'hard')\n",
    "    \n",
    "    Base_eclf2 = VotingClassifier (estimators= [('dt', Base_DecisionTree), ('lr', Base_logreg), ('KNN', Base_knn), ('rf', Base_rf)], voting = 'soft')\n",
    "        \n",
    "    # Step3 (Base Learner Prediction)\n",
    "    accuracy_list1 = cross_val_score(Base_eclf1, X_bag, y_bag, cv=10, scoring='accuracy')\n",
    "    accuracy_list2 = cross_val_score(Base_eclf2, X_bag, y_bag, cv=10, scoring='accuracy')\n",
    "    \n",
    "    accuracy_cv1 = accuracy_list1.mean()\n",
    "    accuracy_cv2 = accuracy_list2.mean()\n",
    "        \n",
    "    # Step4 (Voting)\n",
    "    curr_max_acc = [accuracy_cv1, accuracy_cv2]\n",
    "    final_accuracy_list.append(max(curr_max_acc))\n",
    "    \n",
    "print(max(final_accuracy_list))"
   ]
  },
  {
   "cell_type": "code",
   "execution_count": 8,
   "id": "11285d1a",
   "metadata": {},
   "outputs": [
    {
     "name": "stdout",
     "output_type": "stream",
     "text": [
      "Hard accuracy: 0.33\n",
      "Soft accuracy: 0.2633333333333333\n"
     ]
    }
   ],
   "source": [
    "import numpy as np\n",
    "from sklearn.metrics import accuracy_score\n",
    "from sklearn.utils import resample\n",
    "from sklearn.ensemble import RandomForestClassifier, VotingClassifier\n",
    "from sklearn.neighbors import KNeighborsClassifier\n",
    "from sklearn.linear_model import LogisticRegression\n",
    "from sklearn.tree import DecisionTreeClassifier\n",
    "\n",
    "bootstarp_size = int(np.floor( 0.8 * len(X_train) ))\n",
    "accuracy_list = list()\n",
    "\n",
    "i = 15\n",
    "    \n",
    "# Step1 (Bootstrapping)\n",
    "X_bag = resample(X_train, n_samples = bootstarp_size , random_state=i , replace = True)\n",
    "y_bag = resample(y_train, n_samples = bootstarp_size , random_state=i , replace = True)\n",
    "\n",
    "# Step2 (Training)\n",
    "Base_DecisionTree = DecisionTreeClassifier(random_state=3)\n",
    "\n",
    "Base_logreg = LogisticRegression(max_iter=150)\n",
    "\n",
    "Base_knn = KNeighborsClassifier(n_neighbors=64)\n",
    "\n",
    "Base_rf = RandomForestClassifier(n_estimators=19)\n",
    "\n",
    "Base_eclf1 = VotingClassifier (estimators= [('dt', Base_DecisionTree), ('lr', Base_logreg), ('KNN', Base_knn), ('rf', Base_rf)], voting = 'hard')\n",
    "Base_eclf1 = Base_eclf1.fit(X_bag, y_bag)\n",
    "\n",
    "Base_eclf2 = VotingClassifier (estimators= [('dt', Base_DecisionTree), ('lr', Base_logreg), ('KNN', Base_knn), ('rf', Base_rf)], voting = 'soft')\n",
    "Base_eclf2 = Base_eclf2.fit(X_bag, y_bag)\n",
    "\n",
    "# Step3 (Base Learner Prediction)\n",
    "y_predict1 = Base_eclf1.predict(X_test)\n",
    "y_predict2 = Base_eclf2.predict(X_test)\n",
    "\n",
    "accuracy1 = accuracy_score(y_test, y_predict1)\n",
    "accuracy2 = accuracy_score(y_test, y_predict2)\n",
    "\n",
    "# Step4 (Voting)\n",
    "print(\"Hard accuracy: \" + str(accuracy1))\n",
    "print(\"Soft accuracy: \" + str(accuracy2))"
   ]
  },
  {
   "cell_type": "code",
   "execution_count": 9,
   "id": "8ace0212",
   "metadata": {},
   "outputs": [],
   "source": [
    "# Predicting the Binary Label:\n",
    "y_predict = Base_eclf2.predict(X_test)\n",
    "\n",
    "# Estimating the probability (likelihood) of Each Label: \n",
    "y_predict_prob = Base_eclf2.predict_proba(X_test)"
   ]
  },
  {
   "cell_type": "code",
   "execution_count": 10,
   "id": "7c1b06b5",
   "metadata": {},
   "outputs": [
    {
     "name": "stdout",
     "output_type": "stream",
     "text": [
      "[3 3 4 3 2 2 2 4 4 2 4 2 2 3 0 1 0 1 4 2 2 0 2 3 2 1 2 2 2 4 1 1 1 3 3 3 4\n",
      " 3 1 3 2 2 1 1 2 4 4 2 3 1 4 3 4 1 3 3 2 2 2 3 4 3 2 2 4 2 1 4 3 2 1 3 4 3\n",
      " 2 3 4 2 3 3 3 2 0 1 1 3 3 2 3 0 1 1 2 1 2 4 3 4 4 2 2 1 1 2 2 3 2 3 0 2 2\n",
      " 3 1 3 1 2 2 3 1 1 2 1 2 2 3 1 2 3 3 4 1 2 0 2 1 2 1 3 0 2 1 3 0 1 3 2 2 0\n",
      " 4 3 2 2 1 2 3 3 1 3 3 2 4 1 3 4 2 2 2 3 4 1 3 4 2 3 1 4 4 3 2 1 2 3 3 1 0\n",
      " 4 2 3 2 1 4 1 4 3 1 0 2 0 1 0 3 3 3 0 0 3 3 2 2 2 2 1 2 1 2 4 2 2 2 2 4 1\n",
      " 2 3 2 3 3 2 1 1 3 4 3 1 0 3 2 3 3 2 3 0 0 2 4 0 3 2 0 1 2 3 1 1 2 4 4 4 2\n",
      " 4 2 1 1 2 4 3 1 3 2 2 2 0 3 4 2 2 1 4 2 1 2 3 2 3 2 3 1 1 4 1 1 1 2 1 3 1\n",
      " 4 4 2 2]\n",
      "[0 0 2 4 3 2 2 2 4 3 3 3 3 2 2 1 4 1 3 3 1 2 2 3 3 4 4 1 4 1 3 3 1 3 3 1 0\n",
      " 3 2 3 2 1 4 2 1 4 4 2 3 3 2 2 1 2 4 3 4 2 0 3 3 0 3 1 2 3 1 0 3 4 3 2 3 3\n",
      " 2 2 2 3 3 0 3 2 2 4 0 2 1 2 3 3 1 0 3 4 1 3 0 3 2 1 0 3 1 3 0 3 4 3 3 2 1\n",
      " 1 2 2 3 1 1 1 2 3 2 2 1 2 3 4 2 1 3 3 2 0 1 2 3 3 0 2 1 3 0 4 2 4 2 3 2 1\n",
      " 3 2 3 2 2 0 4 3 2 1 2 2 4 2 2 4 1 1 1 4 3 2 4 1 1 3 1 1 3 1 0 3 0 2 2 2 2\n",
      " 0 2 1 2 3 2 1 3 2 1 1 2 3 1 4 3 2 2 1 2 1 2 4 4 3 2 1 2 1 3 4 2 0 4 0 3 3\n",
      " 0 2 4 0 2 2 1 1 4 2 3 2 1 0 0 3 0 3 3 1 2 1 1 1 3 4 2 2 4 4 4 3 3 4 3 2 3\n",
      " 1 2 1 2 2 1 4 0 4 2 4 2 3 3 2 4 4 4 3 0 2 4 0 2 4 4 3 2 1 1 2 3 4 3 3 2 3\n",
      " 2 2 4 2]\n",
      "[[0.37410296 0.17025532 0.22234695 0.19890666 0.03438811]\n",
      " [0.36312535 0.2252408  0.29200795 0.09636528 0.02326063]\n",
      " [0.04207253 0.07729296 0.53233033 0.17674889 0.17155529]\n",
      " ...\n",
      " [0.04258547 0.1279492  0.49146129 0.26283771 0.07516632]\n",
      " [0.03930631 0.06734717 0.22778889 0.25715492 0.40840271]\n",
      " [0.04192258 0.06571264 0.49843217 0.24488366 0.14904894]]\n",
      "[0.17025532 0.2252408  0.07729296 0.25297108 0.18143812 0.06626049\n",
      " 0.09410466 0.06725086 0.05207562 0.05368414 0.14605001 0.18108321\n",
      " 0.11881875 0.08893565 0.14121952 0.45976736 0.11934608 0.49166615\n",
      " 0.05598573 0.22993048 0.42298464 0.15526686 0.12974775 0.04609981\n",
      " 0.14605001 0.20247487 0.24954738 0.46902866 0.07856691 0.47492322\n",
      " 0.18629155 0.14245509 0.54785624 0.15732826 0.19796767 0.39959303\n",
      " 0.11313628 0.15049497 0.18712064 0.16404242 0.11132172 0.43787865\n",
      " 0.10338999 0.17212777 0.33791978 0.11675063 0.09173563 0.13217819\n",
      " 0.08167159 0.08407075 0.26441593 0.37533321 0.38176087 0.1916519\n",
      " 0.06044452 0.05589185 0.11456429 0.08582673 0.2142664  0.13786911\n",
      " 0.16959976 0.14856539 0.08985324 0.5840895  0.20681026 0.22507287\n",
      " 0.51809824 0.13613269 0.10250465 0.13584251 0.04481673 0.18491159\n",
      " 0.136946   0.06276821 0.15150078 0.06895275 0.0573307  0.1556248\n",
      " 0.05002853 0.05216601 0.14643561 0.06626794 0.15639729 0.09793815\n",
      " 0.17835013 0.08989806 0.4508129  0.14660111 0.15439159 0.11663021\n",
      " 0.41485627 0.15782084 0.2106966  0.06898041 0.42154645 0.10390807\n",
      " 0.04120614 0.06553913 0.1713629  0.40904021 0.05220679 0.08200969\n",
      " 0.37942607 0.14697617 0.09854553 0.06065102 0.0800546  0.0773666\n",
      " 0.09932803 0.22100327 0.41600874 0.48378502 0.15079965 0.11410767\n",
      " 0.19166237 0.50917906 0.49265955 0.48043423 0.25636607 0.05338668\n",
      " 0.064044   0.1765378  0.50759682 0.11417169 0.08511786 0.10000513\n",
      " 0.08481502 0.46670858 0.06877084 0.0632276  0.18705816 0.27145572\n",
      " 0.51896765 0.09337724 0.09206475 0.17833582 0.06945502 0.15907438\n",
      " 0.44994467 0.08341501 0.07321104 0.06578861 0.1153401  0.05823087\n",
      " 0.10235101 0.16668695 0.17652495 0.45864886 0.06457068 0.11892865\n",
      " 0.09252494 0.15976131 0.16129111 0.22437983 0.08528578 0.14445196\n",
      " 0.15014299 0.49318505 0.37466396 0.19000542 0.04911775 0.079493\n",
      " 0.09125586 0.0807462  0.52723606 0.51821861 0.40269961 0.10477852\n",
      " 0.30723248 0.23345469 0.06440265 0.44301496 0.42200936 0.13328528\n",
      " 0.44552667 0.58970273 0.12220418 0.48914646 0.07658354 0.0998593\n",
      " 0.1023586  0.08479216 0.15641952 0.12945325 0.19734191 0.21087347\n",
      " 0.18640995 0.36170191 0.13232804 0.04677908 0.24086083 0.53337213\n",
      " 0.07223024 0.12272494 0.50090123 0.44004994 0.19149827 0.14284165\n",
      " 0.51374723 0.10310922 0.07207421 0.07595819 0.05433572 0.4423594\n",
      " 0.27692271 0.52323596 0.15740018 0.104626   0.18290276 0.07755035\n",
      " 0.14411644 0.51109844 0.11302425 0.3696855  0.08468622 0.20483699\n",
      " 0.09367962 0.13090842 0.25667827 0.22841327 0.13258839 0.16137211\n",
      " 0.18844431 0.171633   0.08009371 0.18231934 0.16189351 0.05410226\n",
      " 0.46426641 0.53133152 0.04610239 0.07376021 0.06962527 0.10758282\n",
      " 0.42060966 0.12076741 0.15602703 0.07614866 0.05596151 0.15088043\n",
      " 0.16428252 0.4883947  0.06044924 0.45316504 0.4515365  0.57527291\n",
      " 0.08253382 0.13300589 0.07778114 0.07277536 0.09488164 0.12109445\n",
      " 0.05542327 0.13413383 0.06220937 0.0485732  0.07260401 0.13265246\n",
      " 0.13408467 0.40707393 0.11979805 0.45258532 0.07142047 0.13782351\n",
      " 0.40071723 0.20247148 0.1860482  0.14630362 0.1103349  0.04431776\n",
      " 0.11065873 0.0690387  0.07249816 0.05734051 0.17671416 0.24543129\n",
      " 0.19495522 0.08665975 0.14298327 0.19402205 0.07477316 0.14320337\n",
      " 0.10370151 0.0570536  0.25338044 0.06074408 0.18784967 0.46171588\n",
      " 0.40810874 0.12046139 0.15549577 0.18550703 0.04105433 0.17562206\n",
      " 0.18125082 0.05504614 0.14027911 0.1279492  0.06734717 0.06571264]\n"
     ]
    }
   ],
   "source": [
    "# This line prints the \"actual label\" of the testing set:\n",
    "print(y_test)\n",
    "\n",
    "# This line prints the \"predicted label\" for the testing set:\n",
    "print(y_predict)\n",
    "\n",
    "# This line prints the \"estimated likelihood of both label\" for the testing set:\n",
    "print(y_predict_prob)\n",
    "\n",
    "# This line prints the \"estimated likelihood of label=1\" for the testing set:\n",
    "print(y_predict_prob[:,1])"
   ]
  },
  {
   "cell_type": "markdown",
   "id": "dd7c94fc",
   "metadata": {},
   "source": [
    "# True Positive Rate (TPR) and False Positive Rate (FPR):"
   ]
  },
  {
   "cell_type": "code",
   "execution_count": 11,
   "id": "4c7d7ea5",
   "metadata": {},
   "outputs": [
    {
     "name": "stdout",
     "output_type": "stream",
     "text": [
      "[0.         0.00421941 0.01265823 0.01265823 0.02953586 0.02953586\n",
      " 0.03797468 0.03797468 0.0464135  0.0464135  0.07594937 0.07594937\n",
      " 0.08438819 0.08438819 0.09704641 0.09704641 0.1350211  0.1350211\n",
      " 0.16455696 0.16455696 0.17299578 0.17299578 0.20253165 0.20253165\n",
      " 0.22362869 0.22362869 0.27004219 0.27004219 0.28270042 0.28270042\n",
      " 0.29535865 0.29535865 0.29957806 0.29957806 0.32489451 0.32489451\n",
      " 0.33333333 0.33333333 0.33755274 0.33755274 0.37130802 0.37130802\n",
      " 0.37974684 0.37974684 0.40506329 0.40506329 0.42194093 0.42194093\n",
      " 0.42616034 0.42616034 0.44725738 0.4556962  0.47679325 0.47679325\n",
      " 0.50632911 0.50632911 0.5443038  0.5443038  0.56540084 0.56540084\n",
      " 0.62869198 0.62869198 0.64556962 0.64556962 0.66244726 0.66244726\n",
      " 0.67088608 0.67088608 0.69198312 0.69198312 0.74261603 0.74261603\n",
      " 0.75105485 0.75105485 0.76793249 0.76793249 0.81012658 0.81012658\n",
      " 0.82700422 0.82700422 0.83122363 0.83122363 0.83544304 0.83544304\n",
      " 0.91561181 0.91561181 0.94092827 0.94092827 0.9535865  0.9535865\n",
      " 0.97890295 0.97890295 0.98734177 0.98734177 1.        ]\n",
      "[0.         0.         0.         0.04761905 0.04761905 0.0952381\n",
      " 0.0952381  0.11111111 0.11111111 0.12698413 0.12698413 0.17460317\n",
      " 0.17460317 0.19047619 0.19047619 0.20634921 0.20634921 0.22222222\n",
      " 0.22222222 0.23809524 0.23809524 0.25396825 0.25396825 0.26984127\n",
      " 0.26984127 0.28571429 0.28571429 0.3015873  0.3015873  0.36507937\n",
      " 0.36507937 0.41269841 0.41269841 0.46031746 0.46031746 0.47619048\n",
      " 0.47619048 0.49206349 0.49206349 0.52380952 0.52380952 0.55555556\n",
      " 0.55555556 0.57142857 0.57142857 0.58730159 0.58730159 0.6031746\n",
      " 0.6031746  0.61904762 0.61904762 0.61904762 0.61904762 0.63492063\n",
      " 0.63492063 0.65079365 0.65079365 0.66666667 0.66666667 0.68253968\n",
      " 0.68253968 0.6984127  0.6984127  0.71428571 0.71428571 0.74603175\n",
      " 0.74603175 0.76190476 0.76190476 0.77777778 0.77777778 0.79365079\n",
      " 0.79365079 0.80952381 0.80952381 0.82539683 0.82539683 0.85714286\n",
      " 0.85714286 0.87301587 0.87301587 0.88888889 0.88888889 0.9047619\n",
      " 0.9047619  0.92063492 0.92063492 0.95238095 0.95238095 0.96825397\n",
      " 0.96825397 0.98412698 0.98412698 1.         1.        ]\n"
     ]
    }
   ],
   "source": [
    "from sklearn import metrics\n",
    "\n",
    "fpr, tpr, thresholds = metrics.roc_curve(y_test, y_predict_prob[:,1], pos_label=1)\n",
    "\n",
    "print(fpr)\n",
    "print(tpr)"
   ]
  },
  {
   "cell_type": "markdown",
   "id": "54145758",
   "metadata": {},
   "source": [
    "# AUC:"
   ]
  },
  {
   "cell_type": "code",
   "execution_count": 12,
   "id": "fd4d39b6",
   "metadata": {},
   "outputs": [
    {
     "name": "stdout",
     "output_type": "stream",
     "text": [
      "0.5783939454825531\n"
     ]
    }
   ],
   "source": [
    "# AUC:\n",
    "AUC = metrics.auc(fpr, tpr)\n",
    "print(AUC)"
   ]
  },
  {
   "cell_type": "markdown",
   "id": "eb6f8f20",
   "metadata": {},
   "source": [
    "# ROC Curve:"
   ]
  },
  {
   "cell_type": "code",
   "execution_count": 13,
   "id": "a5b748b0",
   "metadata": {},
   "outputs": [
    {
     "data": {
      "image/png": "[encoded data removed]",
      "text/plain": [
       "<Figure size 432x288 with 1 Axes>"
      ]
     },
     "metadata": {
      "needs_background": "light"
     },
     "output_type": "display_data"
    }
   ],
   "source": [
    "# Importing the \"pyplot\" package of \"matplotlib\" library of python to generate \n",
    "# graphs and plot curves:\n",
    "import matplotlib.pyplot as plt\n",
    "\n",
    "# The following line will tell Jupyter Notebook to keep the figures inside the explorer page \n",
    "# rather than openng a new figure window:\n",
    "%matplotlib inline\n",
    "\n",
    "plt.figure()\n",
    "\n",
    "# Roc Curve:\n",
    "plt.plot(fpr, tpr, color='red', lw=2, \n",
    "         label='ROC Curve (area = %0.2f)' % AUC)\n",
    "\n",
    "# Random Guess line:\n",
    "plt.plot([0, 1], [0, 1], color='blue', lw=1, linestyle='--')\n",
    "\n",
    "# Defining The Range of X-Axis and Y-Axis:\n",
    "plt.xlim([-0.005, 1.005])\n",
    "plt.ylim([0.0, 1.01])\n",
    "\n",
    "# Labels, Title, Legend:\n",
    "plt.xlabel('False Positive Rate')\n",
    "plt.ylabel('True Positive Rate')\n",
    "plt.title('Receiver operating characteristic')\n",
    "plt.legend(loc=\"lower right\")\n",
    "\n",
    "plt.show()"
   ]
  },
  {
   "cell_type": "markdown",
   "id": "4d9e474b",
   "metadata": {},
   "source": [
    "## Conclusion\n",
    "### Model accuracy: 0.65 with Cross Validation\n",
    "### Model accuracy: 0.36 without Cross Validation"
   ]
  }
 ],
 "metadata": {
  "kernelspec": {
   "display_name": "Python 3",
   "language": "python",
   "name": "python3"
  },
  "language_info": {
   "codemirror_mode": {
    "name": "ipython",
    "version": 3
   },
   "file_extension": ".py",
   "mimetype": "text/x-python",
   "name": "python",
   "nbconvert_exporter": "python",
   "pygments_lexer": "ipython3",
   "version": "3.8.8"
  }
 },
 "nbformat": 4,
 "nbformat_minor": 5
}
