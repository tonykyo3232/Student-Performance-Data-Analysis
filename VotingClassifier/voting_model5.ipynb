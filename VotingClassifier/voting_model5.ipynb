{
 "cells": [
  {
   "cell_type": "markdown",
   "id": "908eb19a",
   "metadata": {},
   "source": [
    "## Loading Data"
   ]
  },
  {
   "cell_type": "code",
   "execution_count": 1,
   "id": "6fd08d6a",
   "metadata": {},
   "outputs": [],
   "source": [
    "import numpy as np\n",
    "import pandas as pd\n",
    "df = pd.read_csv('Student Performance.csv')"
   ]
  },
  {
   "cell_type": "markdown",
   "id": "f321aa56",
   "metadata": {},
   "source": [
    "## Obtain label features"
   ]
  },
  {
   "cell_type": "code",
   "execution_count": 2,
   "id": "265dee4e",
   "metadata": {},
   "outputs": [
    {
     "name": "stdout",
     "output_type": "stream",
     "text": [
      "feature matrix\n",
      "[[0.72 0.72 0.74]\n",
      " [0.69 0.9  0.88]\n",
      " [0.9  0.95 0.93]\n",
      " ...\n",
      " [0.59 0.71 0.65]\n",
      " [0.68 0.78 0.77]\n",
      " [0.77 0.86 0.86]]\n",
      "size: (1000, 3)\n",
      "\n",
      "Labels\n",
      "[1 2 1 0 2 1 1 1 3 1 2 3 1 0 0 2 2 1 2 2 3 1 3 2 3 0 1 2 2 3 3 1 4 3 4 4 3\n",
      " 3 3 1 2 2 1 1 4 1 0 2 3 2 4 4 2 3 2 2 4 3 3 2 4 0 0 2 3 1 3 2 1 2 3 3 0 2\n",
      " 2 1 4 0 3 4 1 1 0 4 3 2 2 3 0 3 2 2 2 2 1 2 1 4 3 3 1 3 3 1 2 2 3 4 1 1 3\n",
      " 2 0 3 4 2 1 3 3 2 2 1 2 3 4 1 1 3 3 0 3 2 4 2 3 2 1 4 2 3 3 2 4 0 3 2 1 2\n",
      " 3 4 0 0 1 3 3 2 4 1 1 3 1 4 1 2 4 2 2 1 1 2 0 4 3 2 2 2 1 2 1 3 2 2 4 3 2\n",
      " 2 4 3 1 2 4 3 1 3 2 3 2 4 1 1 2 3 2 1 2 3 4 4 1 1 3 2 2 2 4 1 4 2 1 1 3 1\n",
      " 2 3 1 4 2 3 0 2 3 2 1 4 2 3 3 3 1 2 3 4 3 4 3 2 4 1 1 2 0 3 1 3 3 4 2 2 1\n",
      " 2 2 2 2 4 3 3 2 3 3 4 2 2 3 3 1 2 2 4 2 1 3 3 3 3 1 1 4 1 1 4 2 3 2 4 3 1\n",
      " 0 4 2 3 0 3 2 1 2 0 4 2 1 3 1 1 3 2 2 2 3 2 1 3 2 4 2 2 2 2 2 0 2 1 2 2 4\n",
      " 1 2 1 3 2 1 3 2 2 1 3 3 2 1 2 3 4 1 4 2 2 2 1 0 2 3 3 1 1 2 3 2 0 2 2 0 3\n",
      " 4 2 3 3 3 4 3 3 0 0 1 2 2 4 0 4 4 2 3 3 4 3 4 2 2 0 1 2 1 3 2 0 0 3 2 2 1\n",
      " 1 3 3 3 4 3 1 2 4 2 2 3 4 2 3 3 0 1 2 2 2 0 2 2 2 2 0 2 2 3 3 2 3 2 3 0 1\n",
      " 0 2 3 2 1 1 2 4 2 2 2 2 3 3 4 1 2 1 4 2 0 2 3 0 0 2 2 2 2 3 1 3 4 3 3 4 1\n",
      " 3 2 0 1 2 3 2 1 0 0 2 2 2 1 3 2 3 1 4 3 1 2 4 3 1 0 1 2 2 3 0 3 1 1 2 3 4\n",
      " 3 1 3 2 3 2 2 4 2 2 3 2 2 2 4 4 1 2 2 3 4 0 2 3 2 3 3 4 0 2 2 2 2 1 1 3 4\n",
      " 2 2 2 1 3 3 2 2 3 1 1 4 3 1 3 1 0 2 2 4 0 0 1 1 3 3 4 3 3 3 2 0 2 2 0 2 0\n",
      " 4 4 2 2 1 0 3 3 3 2 4 3 3 2 2 2 4 1 3 2 2 2 0 2 4 3 3 2 2 1 2 0 4 3 1 3 3\n",
      " 2 3 1 1 2 3 0 1 3 4 3 3 3 1 4 1 1 3 4 1 3 2 0 3 0 1 1 2 3 3 3 2 2 3 2 3 2\n",
      " 2 1 2 3 2 3 2 2 3 1 4 2 3 3 3 1 1 2 1 4 4 3 0 4 2 4 2 3 2 3 2 0 3 2 4 1 0\n",
      " 3 1 0 3 2 3 3 2 4 3 3 1 1 2 2 2 4 2 3 1 2 1 4 4 4 3 2 1 0 2 3 4 2 2 1 3 2\n",
      " 3 0 2 2 1 3 3 2 2 1 3 4 2 2 2 4 3 4 3 1 2 3 3 1 3 1 2 1 3 0 1 3 1 2 1 1 1\n",
      " 2 0 4 3 1 1 2 2 1 4 1 2 2 1 3 3 4 1 4 3 4 4 2 2 2 4 1 2 0 3 4 2 1 0 0 2 4\n",
      " 2 1 0 3 1 2 0 3 4 1 2 2 2 2 3 1 0 2 0 1 1 2 4 0 1 2 3 2 1 1 3 4 2 3 2 3 2\n",
      " 0 4 4 2 1 1 2 1 2 2 4 3 2 2 3 2 1 4 2 1 2 1 4 2 2 3 2 3 3 2 4 1 3 4 2 4 2\n",
      " 3 3 4 4 0 3 4 4 1 1 3 3 3 2 0 3 3 3 1 3 2 4 3 0 2 2 1 4 4 2 2 1 3 2 3 1 3\n",
      " 4 4 3 4 2 2 3 3 2 2 3 0 4 3 3 2 3 2 0 1 2 1 3 1 4 4 3 4 2 2 4 2 3 3 2 0 3\n",
      " 4 2 3 3 0 2 4 1 3 2 0 3 0 2 1 2 3 2 1 3 1 0 2 0 2 4 0 3 4 1 3 3 0 4 2 2 3\n",
      " 3]\n",
      "size: (1000,)\n"
     ]
    }
   ],
   "source": [
    "# convert these data into 2D numpy array\n",
    "# order: math percentage, reading score percentage, writing score percentage\n",
    "X = np.array([[df['math percentage'][0], \n",
    "              df['reading score percentage'][0], \n",
    "              df['writing score percentage'][0]]], \n",
    "             dtype = 'float')\n",
    "for i in range(1,1000):\n",
    "    X = np.append(X, [[df['math percentage'][i], \n",
    "                  df['reading score percentage'][i], \n",
    "                  df['writing score percentage'][i]]],axis=0)\n",
    "print('feature matrix')\n",
    "print(X)\n",
    "print('size: ' + str(X.shape))\n",
    "print()\n",
    "\n",
    "# Group A to Group E labeled as 0,1,2,3,4\n",
    "if(df['race/ethnicity'][0] == 'group A'):\n",
    "    first_elem = 0\n",
    "elif(df['race/ethnicity'][0] == 'group B'):\n",
    "    first_elem = 1\n",
    "elif(df['race/ethnicity'][0] == 'group C'):\n",
    "    first_elem = 2\n",
    "elif(df['race/ethnicity'][0] == 'group D'):\n",
    "    first_elem = 3\n",
    "else:\n",
    "    first_elem = 4\n",
    "    \n",
    "y = np.array([first_elem], dtype = 'int')\n",
    "for i in range(1,1000):\n",
    "    if(df['race/ethnicity'][i] == 'group A'):\n",
    "        y = np.append(y, 0)\n",
    "    elif(df['race/ethnicity'][i] == 'group B'):\n",
    "        y = np.append(y, 1)\n",
    "    elif(df['race/ethnicity'][i] == 'group C'):\n",
    "        y = np.append(y, 2)\n",
    "    elif(df['race/ethnicity'][i] == 'group D'):\n",
    "        y = np.append(y, 3)\n",
    "    else:\n",
    "        y = np.append(y, 4)\n",
    "print('Labels')\n",
    "print(y)\n",
    "print('size: ' + str(y.shape))\n"
   ]
  },
  {
   "cell_type": "code",
   "execution_count": 3,
   "id": "6e7c3b36",
   "metadata": {},
   "outputs": [],
   "source": [
    "from sklearn.ensemble import RandomForestClassifier, VotingClassifier\n",
    "from sklearn.neighbors import KNeighborsClassifier\n",
    "from sklearn.linear_model import LogisticRegression\n",
    "from sklearn.tree import DecisionTreeClassifier"
   ]
  },
  {
   "cell_type": "markdown",
   "id": "08815ffa",
   "metadata": {},
   "source": [
    "## Use sklearn functions to split the dataset into testing and training sets with the following parameters: test_size=0.3, random_state=6."
   ]
  },
  {
   "cell_type": "code",
   "execution_count": 4,
   "id": "41a1c618",
   "metadata": {},
   "outputs": [],
   "source": [
    "from sklearn.model_selection import train_test_split\n",
    "X_train, X_test, y_train, y_test = train_test_split(X, y, test_size=0.3, random_state=6)"
   ]
  },
  {
   "cell_type": "markdown",
   "id": "8cfc39ce",
   "metadata": {},
   "source": [
    " ## Voting"
   ]
  },
  {
   "cell_type": "code",
   "execution_count": 5,
   "id": "621a36b8",
   "metadata": {},
   "outputs": [],
   "source": [
    "clf1 = KNeighborsClassifier(n_neighbors=64)\n",
    "clf2 = LogisticRegression()\n",
    "clf3 = DecisionTreeClassifier()\n",
    "clf4 = RandomForestClassifier(n_estimators=40)"
   ]
  },
  {
   "cell_type": "code",
   "execution_count": 6,
   "id": "58f512b6",
   "metadata": {},
   "outputs": [],
   "source": [
    "eclf1 = VotingClassifier (estimators= [('KNN', clf1), ('lr', clf2), ('dt', clf3), ('rf', clf4)], voting = 'hard')\n",
    "eclf1 = eclf1.fit(X_train, y_train)"
   ]
  },
  {
   "cell_type": "code",
   "execution_count": 8,
   "id": "c2ebc00c",
   "metadata": {},
   "outputs": [],
   "source": [
    "eclf2 = VotingClassifier (estimators= [('KNN', clf1), ('lr', clf2), ('dt', clf3), ('rf', clf4)], voting = 'soft')\n",
    "eclf2 = eclf2.fit(X_train, y_train)"
   ]
  },
  {
   "cell_type": "markdown",
   "id": "4e8e66c5",
   "metadata": {},
   "source": [
    "## Accuracy"
   ]
  },
  {
   "cell_type": "code",
   "execution_count": 10,
   "id": "f69cc555",
   "metadata": {},
   "outputs": [],
   "source": [
    "from sklearn.metrics import accuracy_score"
   ]
  },
  {
   "cell_type": "code",
   "execution_count": 11,
   "id": "8c5a2abc",
   "metadata": {},
   "outputs": [
    {
     "name": "stdout",
     "output_type": "stream",
     "text": [
      "0.3233333333333333\n"
     ]
    }
   ],
   "source": [
    "y_predict = eclf1.predict(X_test)\n",
    "accuracy = accuracy_score(y_test, y_predict)\n",
    "print(accuracy)"
   ]
  },
  {
   "cell_type": "code",
   "execution_count": 12,
   "id": "186c03de",
   "metadata": {},
   "outputs": [
    {
     "name": "stdout",
     "output_type": "stream",
     "text": [
      "0.29333333333333333\n"
     ]
    }
   ],
   "source": [
    "y_predict = eclf2.predict(X_test)\n",
    "accuracy = accuracy_score(y_test, y_predict)\n",
    "print(accuracy)"
   ]
  }
 ],
 "metadata": {
  "kernelspec": {
   "display_name": "Python 3",
   "language": "python",
   "name": "python3"
  },
  "language_info": {
   "codemirror_mode": {
    "name": "ipython",
    "version": 3
   },
   "file_extension": ".py",
   "mimetype": "text/x-python",
   "name": "python",
   "nbconvert_exporter": "python",
   "pygments_lexer": "ipython3",
   "version": "3.8.8"
  }
 },
 "nbformat": 4,
 "nbformat_minor": 5
}
